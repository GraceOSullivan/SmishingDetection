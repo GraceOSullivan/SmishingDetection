{
  "nbformat": 4,
  "nbformat_minor": 0,
  "metadata": {
    "colab": {
      "name": "FYP.ipynb",
      "provenance": [],
      "collapsed_sections": []
    },
    "kernelspec": {
      "name": "python3",
      "display_name": "Python 3"
    },
    "language_info": {
      "name": "python"
    }
  },
  "cells": [
    {
      "cell_type": "markdown",
      "source": [
        "#OCR "
      ],
      "metadata": {
        "id": "ORy4zg_E_pik"
      }
    },
    {
      "cell_type": "code",
      "execution_count": null,
      "metadata": {
        "colab": {
          "base_uri": "https://localhost:8080/",
          "height": 1000
        },
        "id": "Q5tVLUo7rZi6",
        "outputId": "f48941b2-a4c3-412a-9c35-f14ec466bd20"
      },
      "outputs": [
        {
          "output_type": "stream",
          "name": "stdout",
          "text": [
            "Reading package lists... Done\n",
            "Building dependency tree       \n",
            "Reading state information... Done\n",
            "The following packages were automatically installed and are no longer required:\n",
            "  libnvidia-common-460 nsight-compute-2020.2.0\n",
            "Use 'sudo apt autoremove' to remove them.\n",
            "The following additional packages will be installed:\n",
            "  tesseract-ocr-eng tesseract-ocr-osd\n",
            "The following NEW packages will be installed:\n",
            "  tesseract-ocr tesseract-ocr-eng tesseract-ocr-osd\n",
            "0 upgraded, 3 newly installed, 0 to remove and 42 not upgraded.\n",
            "Need to get 4,795 kB of archives.\n",
            "After this operation, 15.8 MB of additional disk space will be used.\n",
            "Get:1 http://archive.ubuntu.com/ubuntu bionic/universe amd64 tesseract-ocr-eng all 4.00~git24-0e00fe6-1.2 [1,588 kB]\n",
            "Get:2 http://archive.ubuntu.com/ubuntu bionic/universe amd64 tesseract-ocr-osd all 4.00~git24-0e00fe6-1.2 [2,989 kB]\n",
            "Get:3 http://archive.ubuntu.com/ubuntu bionic/universe amd64 tesseract-ocr amd64 4.00~git2288-10f4998a-2 [218 kB]\n",
            "Fetched 4,795 kB in 1s (4,400 kB/s)\n",
            "debconf: unable to initialize frontend: Dialog\n",
            "debconf: (No usable dialog-like program is installed, so the dialog based frontend cannot be used. at /usr/share/perl5/Debconf/FrontEnd/Dialog.pm line 76, <> line 3.)\n",
            "debconf: falling back to frontend: Readline\n",
            "debconf: unable to initialize frontend: Readline\n",
            "debconf: (This frontend requires a controlling tty.)\n",
            "debconf: falling back to frontend: Teletype\n",
            "dpkg-preconfigure: unable to re-open stdin: \n",
            "Selecting previously unselected package tesseract-ocr-eng.\n",
            "(Reading database ... 155202 files and directories currently installed.)\n",
            "Preparing to unpack .../tesseract-ocr-eng_4.00~git24-0e00fe6-1.2_all.deb ...\n",
            "Unpacking tesseract-ocr-eng (4.00~git24-0e00fe6-1.2) ...\n",
            "Selecting previously unselected package tesseract-ocr-osd.\n",
            "Preparing to unpack .../tesseract-ocr-osd_4.00~git24-0e00fe6-1.2_all.deb ...\n",
            "Unpacking tesseract-ocr-osd (4.00~git24-0e00fe6-1.2) ...\n",
            "Selecting previously unselected package tesseract-ocr.\n",
            "Preparing to unpack .../tesseract-ocr_4.00~git2288-10f4998a-2_amd64.deb ...\n",
            "Unpacking tesseract-ocr (4.00~git2288-10f4998a-2) ...\n",
            "Setting up tesseract-ocr-osd (4.00~git24-0e00fe6-1.2) ...\n",
            "Setting up tesseract-ocr-eng (4.00~git24-0e00fe6-1.2) ...\n",
            "Setting up tesseract-ocr (4.00~git2288-10f4998a-2) ...\n",
            "Processing triggers for man-db (2.8.3-2ubuntu0.1) ...\n",
            "Collecting pytesseract\n",
            "  Downloading pytesseract-0.3.9-py2.py3-none-any.whl (14 kB)\n",
            "Collecting Pillow>=8.0.0\n",
            "  Downloading Pillow-9.1.0-cp37-cp37m-manylinux_2_17_x86_64.manylinux2014_x86_64.whl (4.3 MB)\n",
            "\u001b[K     |████████████████████████████████| 4.3 MB 5.1 MB/s \n",
            "\u001b[?25hRequirement already satisfied: packaging>=21.3 in /usr/local/lib/python3.7/dist-packages (from pytesseract) (21.3)\n",
            "Requirement already satisfied: pyparsing!=3.0.5,>=2.0.2 in /usr/local/lib/python3.7/dist-packages (from packaging>=21.3->pytesseract) (3.0.8)\n",
            "Installing collected packages: Pillow, pytesseract\n",
            "  Attempting uninstall: Pillow\n",
            "    Found existing installation: Pillow 7.1.2\n",
            "    Uninstalling Pillow-7.1.2:\n",
            "      Successfully uninstalled Pillow-7.1.2\n",
            "\u001b[31mERROR: pip's dependency resolver does not currently take into account all the packages that are installed. This behaviour is the source of the following dependency conflicts.\n",
            "albumentations 0.1.12 requires imgaug<0.2.7,>=0.2.5, but you have imgaug 0.2.9 which is incompatible.\u001b[0m\n",
            "Successfully installed Pillow-9.1.0 pytesseract-0.3.9\n"
          ]
        },
        {
          "output_type": "display_data",
          "data": {
            "application/vnd.colab-display-data+json": {
              "pip_warning": {
                "packages": [
                  "PIL"
                ]
              }
            }
          },
          "metadata": {}
        }
      ],
      "source": [
        "!sudo apt install tesseract-ocr\n",
        "!pip install pytesseract"
      ]
    },
    {
      "cell_type": "code",
      "source": [
        "import pytesseract\n",
        "import shutil\n",
        "import os\n",
        "import random\n",
        "from PIL import Image\n",
        "import re"
      ],
      "metadata": {
        "id": "BMgT0P1Arwa9"
      },
      "execution_count": null,
      "outputs": []
    },
    {
      "cell_type": "code",
      "source": [
        "from google.colab import drive\n",
        "drive.mount('/content/drive')"
      ],
      "metadata": {
        "id": "iduOPJpuvYlb",
        "colab": {
          "base_uri": "https://localhost:8080/"
        },
        "outputId": "379c3f62-eb13-458f-c44e-5c196b5e5bd9"
      },
      "execution_count": null,
      "outputs": [
        {
          "output_type": "stream",
          "name": "stdout",
          "text": [
            "Drive already mounted at /content/drive; to attempt to forcibly remount, call drive.mount(\"/content/drive\", force_remount=True).\n"
          ]
        }
      ]
    },
    {
      "cell_type": "markdown",
      "source": [
        "Developing custom OCR system to convert images to text and recognise URLs"
      ],
      "metadata": {
        "id": "zkURepz_PANX"
      }
    },
    {
      "cell_type": "code",
      "source": [
        "def convert_images_to_text(directory):\n",
        "  list_of_text= []\n",
        "  for filename in os.listdir(directory):\n",
        "    if filename.endswith('.png') or filename.endswith('.jpg'):\n",
        "      pic = Image.open(directory + \"/\"+ filename)\n",
        "      image_text = pytesseract.image_to_string(pic)\n",
        "      list_of_text.append( image_text)\n",
        "  return list_of_text"
      ],
      "metadata": {
        "id": "SCYZxj1m8uE_"
      },
      "execution_count": null,
      "outputs": []
    },
    {
      "cell_type": "code",
      "source": [
        "def convert_image_to_text(image):\n",
        "  filename = next(iter(image))\n",
        "  pic = Image.open(filename)\n",
        "  image_text = pytesseract.image_to_string(pic)\n",
        "  return image_text"
      ],
      "metadata": {
        "id": "oPSMsozCk8R3"
      },
      "execution_count": null,
      "outputs": []
    },
    {
      "cell_type": "code",
      "source": [
        "def has_url(text):\n",
        "  re_equ = r\"(?i)\\b((?:(http|https|bit)?://|www\\d{0,3}[.]|[a-z0-9.\\-]+[.][a-z]{2,4}/)(?:[^\\s()<>]+|\\(([^\\s()<>]+|(\\([^\\s()<>]+\\)))*\\))+(?:\\(([^\\s()<>]+|(\\([^\\s()<>]+\\)))*\\)|[^\\s`!()\\[\\]{};:'\\\".,<>?«»“”‘’]))\"\n",
        "  ck_url = re.findall(re_equ, text)\n",
        "  if ck_url:\n",
        "    return True\n",
        "  else:\n",
        "    print(\"No URL detected\")"
      ],
      "metadata": {
        "id": "Wy-LKD6SifC8"
      },
      "execution_count": null,
      "outputs": []
    },
    {
      "cell_type": "code",
      "source": [
        "def find_url(text):\n",
        "    if (text[:4] != \"http\") and (text[:4] !=\"bit.\"):\n",
        "        return find_url(text[1:])\n",
        " \n",
        "    return remove_tail_space(text.replace('\\n',''), '')"
      ],
      "metadata": {
        "id": "kyODM8T0P38t"
      },
      "execution_count": null,
      "outputs": []
    },
    {
      "cell_type": "code",
      "source": [
        "def remove_tail_space(text, start):\n",
        "  if text == '':\n",
        "    return start\n",
        "  \n",
        "  if text[0]==\" \":\n",
        "    return start\n",
        "  return remove_tail_space(text[1:],start+text[0])"
      ],
      "metadata": {
        "id": "wAWbr7nn8G9_"
      },
      "execution_count": null,
      "outputs": []
    },
    {
      "cell_type": "markdown",
      "source": [
        "#Creating Custom Dataset"
      ],
      "metadata": {
        "id": "Yrau-4W1RTqg"
      }
    },
    {
      "cell_type": "code",
      "source": [
        "import pandas as pd"
      ],
      "metadata": {
        "id": "nRh5JMT6RWGN"
      },
      "execution_count": null,
      "outputs": []
    },
    {
      "cell_type": "code",
      "source": [
        "smishingImages = '/content/drive/My Drive/SmishingImages'"
      ],
      "metadata": {
        "id": "8eKei1exCwlz"
      },
      "execution_count": null,
      "outputs": []
    },
    {
      "cell_type": "code",
      "source": [
        "notSmishingImages = '/content/drive/My Drive/NotSmishingImages'"
      ],
      "metadata": {
        "id": "F3skVb8kVq90"
      },
      "execution_count": null,
      "outputs": []
    },
    {
      "cell_type": "code",
      "source": [
        "for filename  in os.listdir(smishingImages):\n",
        "  print(filename)"
      ],
      "metadata": {
        "colab": {
          "base_uri": "https://localhost:8080/"
        },
        "id": "MgvrEr9lAfMO",
        "outputId": "690f6e74-a30d-4919-99ef-9d8814f53435"
      },
      "execution_count": null,
      "outputs": [
        {
          "output_type": "stream",
          "name": "stdout",
          "text": [
            "c5c08b115638a99a67ca73c57f2c7250.png\n",
            "07e2a7926b724be9e1a43b6f41af2aec.png\n",
            "974efd7c1fd43e78ee29b3526eab3052.png\n",
            "e75e935f74503c9382b52ff4543c2501.png\n",
            "276333cf24fdd903378b046ebc79df05.png\n",
            "eaa95fdddf58070f4162824f9f3a3b33.png\n",
            "38f9224a09717d1274c93e29d6aa0acc.png\n",
            "58805c949fdd1dcd85e6da22c3732b60.png\n",
            "1e435d6fdf0cabb60fcfc630bfb19ddd.png\n",
            "810bba600645e216ab17b79292142687.png\n",
            "a41676ec390112a0e2e4a5a703cc2b02.png\n",
            "07693da29c48215d1490f05d1493056c.png\n",
            "4104994373ea5dcb9211af6412a6c46f.png\n",
            "c43024753dba2666e5ead48fa197998c.png\n",
            "82574883e2744257addc13b0ff2079c0.png\n",
            "b6fa441bcb59625e3f3d1cecb93a549e.png\n",
            "03ef41b1a0b8e203d717ed4316495d1e.png\n",
            "22c0d7b0062c53ca4e5c2eff2ce51474.png\n",
            "7defd923569279a43b92770e3f2ff674.png\n",
            "1045b9f05767246c58aa7d824b509d85.png\n",
            "48f778d980e9251435f104e4b839641e.png\n",
            "21b05431f70e2122e9bbeb8fedb90e39.jpg\n",
            "4f975ae9dabd580bb415a261e47cd387.png\n",
            "346d2dfe1debca0f99091874f4ea4ff6.png\n",
            "ece11eae1682afa199fdb4403241c3dd.png\n",
            "244ec79fb57c0c8ae208b70378a2c03e.png\n",
            "3a70c0c1a76d91a17100641aee1c09f9.png\n",
            "10d7f208b7bbcb28751b7482dab4de60.png\n",
            "3b335f73d477967ded3fa3225a31d097.png\n",
            "f27627d0125e89d8792bc662029a09bc.png\n",
            "a9d86599af9fa6013ed6ba6543ba08b7.png\n",
            "adec95c650d8ef2d73760690b93cf26b.png\n",
            "3aa176afca0988df4a5e40c711e39340 (1).jpg\n",
            "41c0622819153d3bb18168338a318651.png\n",
            "c7e2fed5e46ff9bc9557eb0ee7459542.jpg\n",
            "0df7dadfa074d82879d6932aa9e7146f.jpg\n",
            "Smishing-text.png\n",
            "download (1).png\n",
            "download.png\n",
            "eks_sms.png\n",
            "emergency-jpg.jpeg\n",
            "phishing-sms.jpg\n",
            "02-texts-delete-immediately-Courtesy-nicole-fornabaiord.com_-e1537194291166.jpg\n",
            "0_DHL.jpg\n",
            "Smishing.png\n",
            "netflix-free-sub-scam_small.png\n",
            "phishing-link-text-message.jpg\n",
            "covid19-text-scam-752x501.jpg\n",
            "money-sms-phishing-scam-473x1024.png\n",
            "238020cd40755b0c3b9365096348e37e4f4deeeb-1623924270-8ec4568d-1920x1280.jpeg\n",
            "1609883183055-screen-shot-2021-01-05-at-94020-am.png\n",
            "smishing_1.png\n",
            "smishing_2png.png\n",
            "smishing_3.png\n",
            "60b8347aba75d835c54fbd35_IMG_1942-300x238-3.png\n",
            "60b8347aceafb1211af97172_Image-from-iOS-2-300x292-3.png\n",
            "smishing-example-walmart.png\n",
            "social-engineer-smishing-AMEX.png\n",
            "smishing-example-apple.jfif\n",
            "Smishing.Payment-Attempt.uploaded-to-Security-Zone-17.08.21-1.jpg\n",
            "Smishing.New-Login.uploaded-to-Security-Zone-17.08.21-1.jpg\n",
            "Smishing.Account-Limited.uploaded-to-Security-Zone-17.08.21-1.jpg\n",
            "Smishing.Request.uploaded-to-Security-Zone-17.08.21-1.jpg\n",
            "Smishing.Restricted-Access.uploaded-to-Security-Zone-17.08.21-1.jpg\n",
            "Screenshot_20220222-183237.jpg\n",
            "Screenshot_20220222-183230.jpg\n",
            "Screenshot_20220222-183227.jpg\n",
            "Screenshot_20220222-183225.jpg\n",
            "Screenshot_20220222-183222.jpg\n",
            "Screenshot_20220222-183220.jpg\n",
            "Screenshot_20220222-183218.jpg\n",
            "Screenshot_20220222-183215.jpg\n",
            "Screenshot_20220222-183213.jpg\n",
            "Screenshot_20220222-183211.jpg\n",
            "Screenshot_20220222-183207.jpg\n",
            "Screenshot_20220222-183204.jpg\n",
            "Screenshot_20220222-183202.jpg\n",
            "Screenshot_20220222-183159.jpg\n",
            "Screenshot_20220222-183156.jpg\n",
            "Screenshot_20220222-183153.jpg\n",
            "Screenshot_20220222-183150.jpg\n",
            "Screenshot_20220222-183146.jpg\n",
            "Screenshot_20220222-183143.jpg\n",
            "Screenshot_20220222-183138.jpg\n",
            "Screenshot_20220222-183134.jpg\n",
            "Screenshot_20220222-183127.jpg\n",
            "Screenshot_20220222-183123.jpg\n",
            "67e4d7c220dbf55b851062b14b736888.png\n",
            "ae46b3778be4036dea6208ff0d04bcd7.png\n",
            "2706419ecbc5b983bc3b2dec83c036e8 (1).jpg\n",
            "83f6968ad500e12b748f2f25656002f4 (1).jpg\n",
            "210afdebd095dfb9e43065ba7bafc25f.png\n",
            "dd3b844c09508d025bf61cfb3edeb8ce.png\n",
            "83f6968ad500e12b748f2f25656002f4.png\n",
            "6bbb18ea0f4fad5dbc586b5f6abaa286.png\n",
            "f0eee6726eb2300a0a32576cf657888d.png\n",
            "98a6c1bf67054c1f4132c0d7737a81bc.png\n",
            "394f502397b8c901193ca64bc2b56047 (3).jpg\n",
            "394f502397b8c901193ca64bc2b56047.png\n",
            "2706419ecbc5b983bc3b2dec83c036e8.png\n",
            "02c32a8bed4dae466341c4f8d2273e0c.png\n",
            "337cd7bff22bc0c2fdd44e0665e995da.png\n",
            "cf0472ed8700983aa400b6dc681cc65d.jpg\n",
            "da852c732b369bea814ef6a702fd172a.png\n",
            "652d454c3a6c14c0602ba8bccc7567db.png\n",
            "2fc3576febc58b65a43af5d4dc2214fb.png\n",
            "0c2687bc65aeb2b7ba892b5f3ab1ed42.png\n",
            "21b05431f70e2122e9bbeb8fedb90e39.png\n",
            "ee7dc4085e0a15e6409c71b0e2f1e97f.png\n",
            "1331271ee9242455286e64f265414c28.png\n",
            "605b2228250000fd0b1d93ce.jpg\n",
            "newFile-2.jpg\n",
            "0_CapturePNG.png\n",
            "0_scam-text-glanmire.jpg\n",
            "scam-pic-2-310x415.jpg\n",
            "scam-text-dec-2019-540x303.png\n",
            "0_Royal-Mail-text-one.png\n",
            "AIB-SMS-Scam-1.png\n",
            "03-texts-delete-immediately-Courtesy-nicole-fornabaiord.com_-e1537194330204.jpg\n",
            "125babaa-8ebc-478a-98f6-adce83e8a17b-MicrosoftTeams-image_2.png\n",
            "instagram-scam.jpg\n",
            "TEXTFIX.png\n",
            "images.png\n",
            "0_WhatsApp-Image-2020-05-01-at-151936jpeg.jpg\n",
            "67591933_406823443254807_4733039889879138304_n.jpg\n",
            "1_Screen-Shot-2021-06-02-at-131905.png\n",
            "1_dpd-scam.jpg\n",
            "lidl-ireland-scam.jpg\n",
            "E23X2MnXoAAGPFS.jpg\n",
            "boi-phishin-1068x623.jpg\n",
            "TUFZMTM2MzY1OTAz.jpg\n",
            "0_Screen-Shot-2021-06-02-at-174503.png\n",
            "2_scamexamplesPNG.png\n",
            "60b8347a44296e018bfefbed_IMG_1943-188x300-3.png\n",
            "60b8347a46fcfc4a260859a9_Image-from-iOS-3-227x300-3.png\n",
            "spamTextWithLink.jpeg\n",
            "Flubot+(002).jpeg\n",
            "E-Bs2MtX0AE97IX.jpg\n",
            "01a-Android-Spam-Text.png\n",
            "d07c5ff8bbd27c976d51f541c5547269.jpg\n",
            "7823ef786760a312501d05c37fba3c5f.jpg\n",
            "46a8883384668eeb38d598da00ae7448.jpg\n",
            "e046f07a36e63432550de91cabebcbd3.png\n",
            "b8e9b1d69787f2d35609f8792f0ca006.png\n",
            "384a304021954fb8cc22f92496b7c9d7.jpg\n",
            "6bbb18ea0f4fad5dbc586b5f6abaa286.jpg\n",
            "394f502397b8c901193ca64bc2b56047.jpg\n",
            "83f6968ad500e12b748f2f25656002f4.jpg\n",
            "210afdebd095dfb9e43065ba7bafc25f.jpg\n",
            "b16af2762074268fddf41ae6fc5153ab.png\n",
            "f0eee6726eb2300a0a32576cf657888d.jpg\n",
            "1c0fff00fa7e5e5d03318c0721978eae.jpg\n",
            "47b3fb2758009bbd0a9ab91f0afaf455.jpg\n",
            "dd3b844c09508d025bf61cfb3edeb8ce.jpg\n",
            "c3a593ed3e1a7681866cce034536e12c.png\n",
            "297880307823a6041c5caf8509946683.png\n",
            "2706419ecbc5b983bc3b2dec83c036e8.jpg\n",
            "67be50fca8938d52a2fdad2fd24e3a82.jpg\n",
            "98a6c1bf67054c1f4132c0d7737a81bc.jpg\n",
            "1d3e2915d8c8e53cac602d638e406e9e.jpg\n",
            "702139466843721615_1487303004.jpg\n",
            "c4f8f010e40ccf0787ee779d2fba37b1.jpg\n",
            "dad284548cfce5c950dc18b382fed948.jpg\n",
            "e89a18eec4269662f60816a10276aa4c.png\n",
            "b1268cb090a30a25dded4b4f0b89d32e.png\n",
            "c85c7c9319bf582d6e4a397f1619ecc4.png\n",
            "290bfccdcbea772d0ab6696696c6e026.png\n",
            "f2ed0f557e9ee635801808fb83b7f8d8.png\n",
            "5d3b5721d9c0ec7162f5d4348d1a5c7f.png\n",
            "0df7dadfa074d82879d6932aa9e7146f.png\n",
            "21d8dde0c57d13588a66104a2de59edc.png\n",
            "684b80d7dc59099a1a78b4024fe45bcb.png\n",
            "3aa176afca0988df4a5e40c711e39340.png\n",
            "download (1).jfif\n",
            "download (2).jfif\n",
            "download (3).jfif\n",
            "download.jfif\n",
            "images (1).jfif\n",
            "images (4).jfif\n",
            "images (3).jfif\n",
            "images (2).jfif\n",
            "images (5).jfif\n",
            "unnamed-1-1.jpg\n",
            "images.jfif\n",
            "images (6).jfif\n",
            "scam-texxt.jpg\n",
            "gardai-smishing-aib.png\n",
            "0_WhatsApp-Image-2020-05-28-at-161453jpeg.jpg\n",
            "92vxbd60ysu41.jpg\n",
            "0_unnamed-1.png\n",
            "an-post-text.jpg\n",
            "november-2021-scam-text-final-fb-no-date.jpg\n",
            "JS114633098-1.jpg\n",
            "smishing-example-us-bank.png\n",
            "Image-from-iOS-2-2.jpeg\n",
            "smishing-example.png\n",
            "SMiSh1.png\n",
            "5-169x300.png\n",
            "DHL-smishing-SMS.png\n",
            "11.jpg\n",
            "Smishing-scam-AIB.png\n"
          ]
        }
      ]
    },
    {
      "cell_type": "code",
      "source": [
        "for filename  in os.listdir(notSmishingImages):\n",
        "  print(filename)"
      ],
      "metadata": {
        "colab": {
          "base_uri": "https://localhost:8080/"
        },
        "id": "uJ7ODgZEWIVy",
        "outputId": "113c1521-dacd-43f2-813b-cd02ba1b57e1"
      },
      "execution_count": null,
      "outputs": [
        {
          "output_type": "stream",
          "name": "stdout",
          "text": [
            "images (1).jpg\n",
            "images (2).jpg\n",
            "best-friends-forever-funny-love-teenage-Favim.com-871200.jpg\n",
            "images.jpg\n",
            "Take-note-of-this-style-of-message-be-warned-if-you-receive-it.jpg\n",
            "addwl7i027251.jpg\n",
            "BFFText4.png\n",
            "bbf903f8-5f7d-4331-8564-f768f315312c.png\n",
            "iphone-Arrs.png\n",
            "good-friend-worried-about-homie-mental-health-text-fb-png__700.jpg\n",
            "fc2c515575e5ac82265ab283bdb38866.png\n",
            "cec7376e7630e1a50cc164182c61127a.jpg\n",
            "Dnej7gPU4AINx2U.jpg\n",
            "best-friends-best-friend-goals-text-messages-Favim.com-7270504.jpg\n",
            "0d55ccadf7a02ef7929ceee4f2737acd.jpg\n",
            "sub-buzz-4818-1565727200-1.png\n",
            "inviterefus.jpg\n",
            "iphone-ojBk.png\n",
            "iphone-CsNo.png\n",
            "iphone-PG7q.png\n",
            "leavingthehouse.jpg\n",
            "tumblr_4c7e1ffcda06547e5aab42be1d1d368a_b936be54_1280.png\n",
            "tumblr_d6598cff920d377cd798caf403153627_77f0e756_1280.png\n",
            "f2193e2789ee6890c805c552eec368d9be00de7c.jpeg\n",
            "qL34fE6.png\n",
            "parents-texting_12.png\n",
            "coded_text_message_help_x_featured.jpg\n",
            "UyfuRFesCfvx.jpg\n",
            "e58861e93bb99eacce4d5a55d09ec0a4.jpg\n",
            "_122881391_thumbnail_blurredscreenshottwo-scamwhatsapp.jpg\n",
            "princewilliam.png\n",
            "09fig00.jpg\n",
            "60d5e4a2c7c51189c95cffac_SMS-Messaging-phone.png\n",
            "42679431_721811498153560_4713878760871428096_n.png\n",
            "ios15-iphone12-pro-messages-green-text-message.png\n",
            "ios15-iphone12-pro-messages-text-message.png\n",
            "textmessage_image_1.jpg\n",
            "Fictional-text-message_02_featured.png\n",
            "text.jpg\n",
            "image0-1.png\n",
            "PhishBowl_texting_available.jpg\n",
            "photo5834431962167751151-300x281.jpg\n",
            "flirtytexts-005-1535055075.jpg\n",
            "iphone-d64u-1574371519.png\n",
            "IMG_2142.jpg\n",
            "ios15-iphone12-pro-messages-send-group-mms.png\n",
            "who-is-this-text.jpg\n",
            "73ae2f514492c6f7c9e1359fdc.jpg\n",
            "image.png\n",
            "ios15-iphone12-pro-messages-start-group-imessage.png\n",
            "image (1).png\n",
            "NINTCHDBPICT0004100487751.jpg\n",
            "funny-mom-texts-86-57d6cac62ee22__605.jpg\n",
            "images (3).jpg\n",
            "3.jpg\n",
            "nrm_1425041258-mum-texts-inception.jpg\n",
            "1425039742-mum-texts-1.png\n",
            "sub-buzz-22842-1527795444-1.png\n",
            "image (3).png\n",
            "Screen-Shot-2018-01-23-at-11.46.18-AM.png\n",
            "20161214_194004000_iOS.jpg\n",
            "3c720de4f98aacd108049fdd7e501302.jpg\n",
            "dc5c6e849a4b12865c042400cb8b91d0.jpg\n",
            "0f416ac182666394e604f8ed5fcf312b.jpg\n",
            "4a0d83f7ccf770331c668dcbf27d39a6.jpg\n",
            "59c70727ddf9af5a2252cc37d8d82d07.jpg\n",
            "a49425ffc74f2dffa5c5cb8faa4b761a.jpg\n",
            "cff3b6aaf28247ea3b2b48df7b1875a5.jpg\n",
            "download.jpg\n",
            "File-24-08-2018-17-37-57.png\n",
            "original-14692-1451319110-3.jpg\n",
            "enhanced-31879-1454535213-4.jpg\n",
            "tumblr_o6pm2tHxkN1ulra1no1_640.jpg\n",
            "enhanced-26193-1451304727-2.jpg\n",
            "275B42D200000578-3029568-image-a-27_1428452108353.jpg\n",
            "babysitting-feature.jpg\n",
            "17-downright-hilarious-texts-you-d-only-get-from-your-sister-5.jpg\n",
            "650c7a70af4c229a58636016e52f9fab.jpg\n",
            "ETPSaKxWkAAOowy.jpg\n",
            "CX1z1R-UEAE_h1q.jpg\n",
            "Untitled-design-582.png\n",
            "429639.image0.jpg\n",
            "XCzOIEMeYgcr_6959_700.jpeg\n",
            "54eeac3a05ce2_-_sev-01-ex-texts-s2.jpg\n",
            "1470338834-relationship-text-11.jpg\n",
            "Select-iPhone-Text-Messages-for-Forwarding-540x782.jpg\n",
            "01_no_times_on_messages.png\n",
            "il_fullxfull.1811663749_128a.jpg\n",
            "0_Screen-Shot-2020-11-18-at-171509.png\n",
            "gallery-1455740160-12752108-232965200384183-1367978273-o.jpg\n",
            "XcHUAop.jpg\n",
            "9f180b1165de4d60f245f36031be6d19.jpg\n",
            "funny-texts-new8.jpeg\n",
            "funny-viral-text-conversations-september-cLU.jpg\n",
            "54ee6c5dd87b8_-_sev-flirty-texts-1-de.jpg\n",
            "Screen-Shot-2019-01-15-at-11.27.17-AM.png\n",
            "Screen-Shot-2019-01-07-at-1.34.21-PM.png\n",
            "Fictional-text-message_02.png\n",
            "images (4).jpg\n",
            "2f2d935-Whatsapp_3_new_1.png\n",
            "b476cf6b73e42920dc69ab77a393a192.jpg\n",
            "e25d122f1a787f7b269ee5f4fbf95a74.jpg\n",
            "3-55.png\n",
            "whatsappbusiness_mock_en.png\n",
            "image_wa_example_simple_text_message_2x.png\n",
            "whatsapp-quotedmessage.jpg\n",
            "whatsapp.jpg\n",
            "location-request.73e8a89b.jpg\n",
            "2f1e4919bc88c4ca9f15f1e20d7db736.jpg\n",
            "a1f8a7c275d5bf9defccde4ed5803525.png\n",
            "img_5910-copy.jpg\n",
            "EJ_HuQrXYAILoiB.jpg\n",
            "b426629f68e5e95631750702c59e8bbc.png\n",
            "image_1280px_34b9b21b42ea47abb2dc1a3f14ccceb8.png\n",
            "snapchat-l-lte-4-53-pm-o-48-10-text-message-37566189.png\n",
            "Text-Messages-on-Snapchat.png\n",
            "download.png\n",
            "download (1).jpg\n",
            "a0f1c59a2956de28535657739d6a8092.jpg\n",
            "images.png\n",
            "f818f519d1661826de0eb6b5448c02c7.jpg\n",
            "5ef0329ea0a0f6f6415bf46a3ee2944f.jpg\n",
            "SNL-App-Stickers-iPhoneScreenshot5.jpg\n",
            "use-stickers-with-imessage-on-your-iphone-ipad-and-ipod-touch-apple-support_613d42bbc0769.jpeg\n",
            "use-stickers-with-imessage-on-your-iphone-ipad-and-ipod-touch-apple-support_613d42ba9660a.gif\n",
            "il_340x270.2694034813_cwf3.jpg\n",
            "screen696x696-6.jpeg\n",
            "images (1).png\n",
            "images (2).png\n",
            "Messaging_stickers_2x.png\n",
            "android-tapbacks-6.jpg\n",
            "textsecure2-imessage.png\n",
            "apple-messages.png\n",
            "ios15-iphone12-pro-messages-reply-inline-to-imessage.png\n",
            "png-clipart-screenshot-line-brand-mobile-phones-iphone-bulk-messaging-text-rectangle.png\n",
            "print-ios-messages-screenshot.png\n",
            "iOS-11-Messages-001.png\n",
            "img_2480_0.jpg\n",
            "27techtipwenART-articleLarge.jpg\n",
            "textmessage_image_1 (1).jpg\n",
            "img-0659-1518467319.jpeg\n",
            "text-disruption-2.jpg\n",
            "Message-Question.jpg\n",
            "images (6).jpg\n",
            "images (3).png\n",
            "images (5).jpg\n",
            "Text-1.jpg\n",
            "mobilephonehome.png\n",
            "send-as-text-header.jpg\n",
            "6c75b52b72834d2f69776fd8b5e132a0.png\n",
            "quit-over-message-twitter-fb5-png__700.jpg\n",
            "v4-460px-Write-Short-Text-Messages-Step-2.jpg.jpg\n",
            "Text-example.jpg\n",
            "enhanced-31578-1416346761-42.jpg\n",
            "iphone-4K0t.png\n",
            "sms@2x.png\n",
            "sms-text-blast-long-code-mobile-smartphone-example-sms-text-message-mobile-phone-electronics-cell-phone-iphone-transparent-png-1165923.png\n",
            "Text-01.png\n",
            "SMS_composition_on_feature_phone.png\n",
            "phone-appt.jpg\n",
            "Biz-Texting-Make-it-Relevant-actual.png\n",
            "how_to_send_text_from_iphone_imessage_text_1000.jpg\n",
            "how_to_send_text_iphone_time_800.jpg\n",
            "apple_imessage_android.jpg\n",
            "ios12-iphone-x-messages-imessage-text.jpg\n",
            "sms.webp\n",
            "SMS-conversation-Android-Messages-Hero.jpg\n",
            "211908-340x340-Friend-text-2.jpg\n",
            "211907-340x340-Friend-text-1.jpg\n",
            "211913-340x340-Friend-text-7.jpg\n",
            "lead-image-flirting-text-2-01-1639153903.jpg\n",
            "10-funniest-text-message-pranks.jpg\n",
            "usycL.jpg\n",
            "ffde2bd9-2dd6-44cd-bea7-7c49f18dec22-2de1d718-a63e-4faf-938b-8b378156dfc5-0-10.jpeg\n",
            "54ee6c5f2ebf3_-_sev-flirty-texts-6-de.jpg\n",
            "v4-460px-End-a-Text-Conversation-Step-1.jpg.jpg\n",
            "flirty-text-example.jpg\n",
            "7_p.jpg\n",
            "v4-460px-Have-a-Fun,-Interesting-Conversation-Via-Text-Step-21-Version-4.jpg\n",
            "perfect-responses-to-send-if-your-ex-texts-you-8.jpg\n",
            "image (2).png\n",
            "img_9714-752x501.jpg\n",
            "01-Here’s-How-to-Hide-Your-Phone-Number-from-Everyone-You-Text-claire-nowak-FT.jpg\n",
            "20161214_193025000_iOS-750x658.jpg\n",
            "IMG_2141.jpg\n",
            "what-happened-when-i-texted-u-up-to-almost-every-guy-in-my-phone-body-image-1491915889.png\n",
            "howto-tell-if-number-blocked-iphone-610x354.jpg\n",
            "YIChat-Website-Header-Images-pc3etiigokg4zc08qq8yzbzht6s36azo6xkt6hcxc0.png\n",
            "textmessage6.png\n",
            "Weez-Wall-of-Hope-Text-Message.png\n",
            "File-24-08-2018-17-42-35.png\n",
            "download (2).jpg\n",
            "iMessage-111010-2.jpg\n",
            "ask-a-girl-for-a-date-example-355x285.png\n",
            "example-of-how-to-ask-a-girl-for-a-date-via-text-1-355x177.png\n",
            "texting-6.jpg\n",
            "meet-up.png\n",
            "word-image-25.png\n",
            "v4-460px-Respond-to-a-Break-Up-Text-Step-10.jpg\n",
            "first-text-after-you-get-her-number-003.jpg\n",
            "GrindrChat1.2.jpg\n"
          ]
        }
      ]
    },
    {
      "cell_type": "code",
      "source": [
        "smishing_list = convert_images_to_text(smishingImages)"
      ],
      "metadata": {
        "id": "0p3wXsrtXnIN"
      },
      "execution_count": null,
      "outputs": []
    },
    {
      "cell_type": "code",
      "source": [
        "not_smishing_list = convert_images_to_text(notSmishingImages)"
      ],
      "metadata": {
        "id": "u37jma49VhBW"
      },
      "execution_count": null,
      "outputs": []
    },
    {
      "cell_type": "code",
      "source": [
        "print(smishing_list[90])"
      ],
      "metadata": {
        "id": "w4K9xVBTXnBW",
        "colab": {
          "base_uri": "https://localhost:8080/"
        },
        "outputId": "f9f7e2f8-a56b-4c54-c830-229b4c762bc0"
      },
      "execution_count": null,
      "outputs": [
        {
          "output_type": "stream",
          "name": "stdout",
          "text": [
            "e000 vodafone IE + 17:37 4% 33% >\n",
            "\n",
            "< Messages +44 7400 326620 Details\n",
            "\n",
            "Text Message\n",
            "Today 16:35\n",
            "\n",
            "Free MSG: you were tagged in\n",
            "the following promotion: http://\n",
            "shortyz.co/svftbh1?\n",
            "i=1NHkOezxkz\n",
            "\n",
            "oe Send\n",
            "\f\n"
          ]
        }
      ]
    },
    {
      "cell_type": "code",
      "source": [
        "find_url(smishing_list[90])"
      ],
      "metadata": {
        "colab": {
          "base_uri": "https://localhost:8080/",
          "height": 35
        },
        "id": "lziquvfnGxys",
        "outputId": "058ee870-6c1f-45d2-fd50-aa1ed01540df"
      },
      "execution_count": null,
      "outputs": [
        {
          "output_type": "execute_result",
          "data": {
            "text/plain": [
              "'http://shortyz.co/svftbh1?i=1NHkOezxkzoe'"
            ],
            "application/vnd.google.colaboratory.intrinsic+json": {
              "type": "string"
            }
          },
          "metadata": {},
          "execution_count": 62
        }
      ]
    },
    {
      "cell_type": "code",
      "source": [
        "smishing_df = pd.DataFrame(smishing_list, columns = ['Message'])\n",
        "smishing_df['Label'] = 'smishing'\n",
        "print(smishing_df)"
      ],
      "metadata": {
        "colab": {
          "base_uri": "https://localhost:8080/"
        },
        "id": "3aYPFRESUYHP",
        "outputId": "e6868c79-7198-4afd-a906-78d6fb12f1c6"
      },
      "execution_count": null,
      "outputs": [
        {
          "output_type": "stream",
          "name": "stdout",
          "text": [
            "                                               Message     Label\n",
            "0    @ee00 ROGERS = 5:11PM $ 58% SL)\\n\\n< oO ®\\n\\n+...  smishing\n",
            "1                         Send message\\nfrom Office\\n\f  smishing\n",
            "2    @ Ge.) 90% MF 10:05\\n\\n \\n\\n€ +91 8287533. BX\\...  smishing\n",
            "3    <€ 42349061869... ® %&\\n\\nDear customer, Due t...  smishing\n",
            "4    eeeee T-Mobile LTE 9:22 AM 7k =\\n\\n< eg @\\n\\n+...  smishing\n",
            "..                                                 ...       ...\n",
            "179  4:28 PM =>\\n\\n<Back support@6bmo.mobi Details\\...  smishing\n",
            "180                                                \\n\f  smishing\n",
            "181  Add to contacts Block number\\n\\nWednesday, 21 ...  smishing\n",
            "182   \\n\\n \\n\\nsee e 1124am\\n\\n€ Messages 8222\\n\\nY...  smishing\n",
            "183  We noticed some suspicious\\nrequests were atte...  smishing\n",
            "\n",
            "[184 rows x 2 columns]\n"
          ]
        }
      ]
    },
    {
      "cell_type": "code",
      "source": [
        "not_smishing_df = pd.DataFrame(not_smishing_list, columns = ['Message'])\n",
        "not_smishing_df['Label'] = 'legitimate'\n",
        "print(not_smishing_df)"
      ],
      "metadata": {
        "colab": {
          "base_uri": "https://localhost:8080/"
        },
        "id": "pblXHncTds7M",
        "outputId": "669a755a-adc8-4605-9b32-a5e83f47b78f"
      },
      "execution_count": null,
      "outputs": [
        {
          "output_type": "stream",
          "name": "stdout",
          "text": [
            "                                               Message       Label\n",
            "0                                                  \\n\f  legitimate\n",
            "1                                       \\n\\nor. C—O\\n\f  legitimate\n",
            "2    a. AT&T 3G 08:45\\n\\nMessages\\n\\n \\n\\nREALLY!!!...  legitimate\n",
            "3    seaceet En eet\\n\\n< Messages Jason Details\\n\\n...  legitimate\n",
            "4    0000 EE F 17:37 35% >\\n< Q ©\\n+44 & = |\\n\\nCan...  legitimate\n",
            "..                                                 ...         ...\n",
            "187                                                  \f  legitimate\n",
            "188  $ D Fl 68% 11:24\\n\\n< @ shay\\n\\nToday\\n\\nHey c...  legitimate\n",
            "189                                                \\n\f  legitimate\n",
            "190   \\n\\nGreat to meet you @D\\n\\n| hope you manage...  legitimate\n",
            "191                         So, you wanna meet now?\\n\f  legitimate\n",
            "\n",
            "[192 rows x 2 columns]\n"
          ]
        }
      ]
    },
    {
      "cell_type": "code",
      "source": [
        "df = pd.concat([smishing_df, not_smishing_df], axis=0)"
      ],
      "metadata": {
        "id": "76xwtwODds18"
      },
      "execution_count": null,
      "outputs": []
    },
    {
      "cell_type": "code",
      "source": [
        "print(df)"
      ],
      "metadata": {
        "colab": {
          "base_uri": "https://localhost:8080/"
        },
        "id": "nwnq9WKHeNqU",
        "outputId": "38482698-41dd-435c-ca4e-35aef361f94d"
      },
      "execution_count": null,
      "outputs": [
        {
          "output_type": "stream",
          "name": "stdout",
          "text": [
            "                                               Message       Label\n",
            "0    @ee00 ROGERS = 5:11PM $ 58% SL)\\n\\n< oO ®\\n\\n+...    smishing\n",
            "1                         Send message\\nfrom Office\\n\f    smishing\n",
            "2    @ Ge.) 90% MF 10:05\\n\\n \\n\\n€ +91 8287533. BX\\...    smishing\n",
            "3    <€ 42349061869... ® %&\\n\\nDear customer, Due t...    smishing\n",
            "4    eeeee T-Mobile LTE 9:22 AM 7k =\\n\\n< eg @\\n\\n+...    smishing\n",
            "..                                                 ...         ...\n",
            "187                                                  \f  legitimate\n",
            "188  $ D Fl 68% 11:24\\n\\n< @ shay\\n\\nToday\\n\\nHey c...  legitimate\n",
            "189                                                \\n\f  legitimate\n",
            "190   \\n\\nGreat to meet you @D\\n\\n| hope you manage...  legitimate\n",
            "191                         So, you wanna meet now?\\n\f  legitimate\n",
            "\n",
            "[376 rows x 2 columns]\n"
          ]
        }
      ]
    },
    {
      "cell_type": "code",
      "source": [
        "df.to_csv(r'/content/drive/MyDrive/df_fyp.csv', index = False)"
      ],
      "metadata": {
        "id": "aN3gkXnieVqu"
      },
      "execution_count": null,
      "outputs": []
    },
    {
      "cell_type": "markdown",
      "source": [
        "#VirusTotal API"
      ],
      "metadata": {
        "id": "tgISOJVtUvRZ"
      }
    },
    {
      "cell_type": "code",
      "source": [
        "#Installations and imports\n",
        "!pip3 install virustotal-python\n",
        "\n",
        "from virustotal_python import Virustotal\n",
        "from virustotal_python import VirustotalError\n",
        "from pprint import pprint\n",
        "from base64 import urlsafe_b64encode"
      ],
      "metadata": {
        "colab": {
          "base_uri": "https://localhost:8080/"
        },
        "id": "eknVAl5SU33H",
        "outputId": "5db7826c-1293-4975-f094-561eb469bda5"
      },
      "execution_count": null,
      "outputs": [
        {
          "output_type": "stream",
          "name": "stdout",
          "text": [
            "Requirement already satisfied: virustotal-python in /usr/local/lib/python3.7/dist-packages (1.0.0)\n",
            "Requirement already satisfied: requests[socks]<3.0.0,>=2.26.0 in /usr/local/lib/python3.7/dist-packages (from virustotal-python) (2.27.1)\n",
            "Requirement already satisfied: urllib3<1.27,>=1.21.1 in /usr/local/lib/python3.7/dist-packages (from requests[socks]<3.0.0,>=2.26.0->virustotal-python) (1.24.3)\n",
            "Requirement already satisfied: charset-normalizer~=2.0.0 in /usr/local/lib/python3.7/dist-packages (from requests[socks]<3.0.0,>=2.26.0->virustotal-python) (2.0.12)\n",
            "Requirement already satisfied: certifi>=2017.4.17 in /usr/local/lib/python3.7/dist-packages (from requests[socks]<3.0.0,>=2.26.0->virustotal-python) (2021.10.8)\n",
            "Requirement already satisfied: idna<4,>=2.5 in /usr/local/lib/python3.7/dist-packages (from requests[socks]<3.0.0,>=2.26.0->virustotal-python) (2.10)\n",
            "Requirement already satisfied: PySocks!=1.5.7,>=1.5.6 in /usr/local/lib/python3.7/dist-packages (from requests[socks]<3.0.0,>=2.26.0->virustotal-python) (1.7.1)\n"
          ]
        }
      ]
    },
    {
      "cell_type": "code",
      "source": [
        "#Setting up VirusTotal with API Key\n",
        "api_key = \"2fa5b9cd09d2d18793e6c0b6464c66b3009a0353f7523f3f07b4e432a6e57612\"\n",
        "api_version = \"v3\"\n",
        "vtotal = Virustotal(API_KEY=api_key, API_VERSION=api_version)"
      ],
      "metadata": {
        "id": "MOzeojrVU5-3"
      },
      "execution_count": null,
      "outputs": []
    },
    {
      "cell_type": "code",
      "source": [
        "# Send URL to VirusTotal for analysis\n",
        "def send_url_to_vt(url):\n",
        "  try:\n",
        "    resp = vtotal.request(\"urls\", data={\"url\": url}, method=\"POST\")\n",
        "    url_id = urlsafe_b64encode(url.encode()).decode().strip(\"=\")\n",
        "    analysis_resp = vtotal.request(f\"urls/{url_id}\")\n",
        "    outcome = analysis_resp.data\n",
        "    companies = outcome.get(\"attributes\").get(\"last_analysis_results\")\n",
        "    results = \"\"\n",
        "    for i in companies:\n",
        "      results += (companies.get(i).get(\"result\") + \" \\n\")\n",
        "    if 'malicious' or 'phishing' or 'malware' in results:\n",
        "      print(\"\\nSMISHING TEXT - DELETE IMMEDIATELY!!\")\n",
        "  except VirustotalError as err:\n",
        "    print(f\"An error occurred: {err}\")"
      ],
      "metadata": {
        "id": "P0jtry-7VKDc"
      },
      "execution_count": null,
      "outputs": []
    },
    {
      "cell_type": "markdown",
      "source": [
        "#Machine Learning"
      ],
      "metadata": {
        "id": "EyijkT8Uk9Jv"
      }
    },
    {
      "cell_type": "markdown",
      "source": [
        "**Data Preparation**\n",
        "\n",
        "Label Encoding\n",
        "\n",
        "*   Smishing = 1\n",
        "*   Legitimate = 0\n",
        "\n",
        "\n",
        "\n"
      ],
      "metadata": {
        "id": "_SbjAsDMlhxx"
      }
    },
    {
      "cell_type": "code",
      "source": [
        "from sklearn.preprocessing import LabelEncoder\n",
        "import re"
      ],
      "metadata": {
        "id": "KhiiKtP-mA8y"
      },
      "execution_count": null,
      "outputs": []
    },
    {
      "cell_type": "code",
      "source": [
        "path =  '/content/drive/My Drive/df_fyp.csv'\n",
        "df = pd.read_csv(path, encoding = 'ISO-8859-1')   "
      ],
      "metadata": {
        "id": "Cwc8L-zulxYA"
      },
      "execution_count": null,
      "outputs": []
    },
    {
      "cell_type": "code",
      "source": [
        "encoder = LabelEncoder()\n",
        "df[\"Classification\"] = encoder.fit_transform(df[\"Label\"])"
      ],
      "metadata": {
        "id": "BuCQB5-JlAgm"
      },
      "execution_count": null,
      "outputs": []
    },
    {
      "cell_type": "code",
      "source": [
        "df[[\"Label\", \"Classification\"]].head(3)"
      ],
      "metadata": {
        "colab": {
          "base_uri": "https://localhost:8080/",
          "height": 143
        },
        "id": "W4w2v3yLmX23",
        "outputId": "388df2c6-30df-49d5-b7fb-f6c8248f8041"
      },
      "execution_count": null,
      "outputs": [
        {
          "output_type": "execute_result",
          "data": {
            "text/plain": [
              "      Label  Classification\n",
              "0  smishing               1\n",
              "1  smishing               1\n",
              "2  smishing               1"
            ],
            "text/html": [
              "\n",
              "  <div id=\"df-08c13936-bb3d-4890-bbb2-8c29f005c12c\">\n",
              "    <div class=\"colab-df-container\">\n",
              "      <div>\n",
              "<style scoped>\n",
              "    .dataframe tbody tr th:only-of-type {\n",
              "        vertical-align: middle;\n",
              "    }\n",
              "\n",
              "    .dataframe tbody tr th {\n",
              "        vertical-align: top;\n",
              "    }\n",
              "\n",
              "    .dataframe thead th {\n",
              "        text-align: right;\n",
              "    }\n",
              "</style>\n",
              "<table border=\"1\" class=\"dataframe\">\n",
              "  <thead>\n",
              "    <tr style=\"text-align: right;\">\n",
              "      <th></th>\n",
              "      <th>Label</th>\n",
              "      <th>Classification</th>\n",
              "    </tr>\n",
              "  </thead>\n",
              "  <tbody>\n",
              "    <tr>\n",
              "      <th>0</th>\n",
              "      <td>smishing</td>\n",
              "      <td>1</td>\n",
              "    </tr>\n",
              "    <tr>\n",
              "      <th>1</th>\n",
              "      <td>smishing</td>\n",
              "      <td>1</td>\n",
              "    </tr>\n",
              "    <tr>\n",
              "      <th>2</th>\n",
              "      <td>smishing</td>\n",
              "      <td>1</td>\n",
              "    </tr>\n",
              "  </tbody>\n",
              "</table>\n",
              "</div>\n",
              "      <button class=\"colab-df-convert\" onclick=\"convertToInteractive('df-08c13936-bb3d-4890-bbb2-8c29f005c12c')\"\n",
              "              title=\"Convert this dataframe to an interactive table.\"\n",
              "              style=\"display:none;\">\n",
              "        \n",
              "  <svg xmlns=\"http://www.w3.org/2000/svg\" height=\"24px\"viewBox=\"0 0 24 24\"\n",
              "       width=\"24px\">\n",
              "    <path d=\"M0 0h24v24H0V0z\" fill=\"none\"/>\n",
              "    <path d=\"M18.56 5.44l.94 2.06.94-2.06 2.06-.94-2.06-.94-.94-2.06-.94 2.06-2.06.94zm-11 1L8.5 8.5l.94-2.06 2.06-.94-2.06-.94L8.5 2.5l-.94 2.06-2.06.94zm10 10l.94 2.06.94-2.06 2.06-.94-2.06-.94-.94-2.06-.94 2.06-2.06.94z\"/><path d=\"M17.41 7.96l-1.37-1.37c-.4-.4-.92-.59-1.43-.59-.52 0-1.04.2-1.43.59L10.3 9.45l-7.72 7.72c-.78.78-.78 2.05 0 2.83L4 21.41c.39.39.9.59 1.41.59.51 0 1.02-.2 1.41-.59l7.78-7.78 2.81-2.81c.8-.78.8-2.07 0-2.86zM5.41 20L4 18.59l7.72-7.72 1.47 1.35L5.41 20z\"/>\n",
              "  </svg>\n",
              "      </button>\n",
              "      \n",
              "  <style>\n",
              "    .colab-df-container {\n",
              "      display:flex;\n",
              "      flex-wrap:wrap;\n",
              "      gap: 12px;\n",
              "    }\n",
              "\n",
              "    .colab-df-convert {\n",
              "      background-color: #E8F0FE;\n",
              "      border: none;\n",
              "      border-radius: 50%;\n",
              "      cursor: pointer;\n",
              "      display: none;\n",
              "      fill: #1967D2;\n",
              "      height: 32px;\n",
              "      padding: 0 0 0 0;\n",
              "      width: 32px;\n",
              "    }\n",
              "\n",
              "    .colab-df-convert:hover {\n",
              "      background-color: #E2EBFA;\n",
              "      box-shadow: 0px 1px 2px rgba(60, 64, 67, 0.3), 0px 1px 3px 1px rgba(60, 64, 67, 0.15);\n",
              "      fill: #174EA6;\n",
              "    }\n",
              "\n",
              "    [theme=dark] .colab-df-convert {\n",
              "      background-color: #3B4455;\n",
              "      fill: #D2E3FC;\n",
              "    }\n",
              "\n",
              "    [theme=dark] .colab-df-convert:hover {\n",
              "      background-color: #434B5C;\n",
              "      box-shadow: 0px 1px 3px 1px rgba(0, 0, 0, 0.15);\n",
              "      filter: drop-shadow(0px 1px 2px rgba(0, 0, 0, 0.3));\n",
              "      fill: #FFFFFF;\n",
              "    }\n",
              "  </style>\n",
              "\n",
              "      <script>\n",
              "        const buttonEl =\n",
              "          document.querySelector('#df-08c13936-bb3d-4890-bbb2-8c29f005c12c button.colab-df-convert');\n",
              "        buttonEl.style.display =\n",
              "          google.colab.kernel.accessAllowed ? 'block' : 'none';\n",
              "\n",
              "        async function convertToInteractive(key) {\n",
              "          const element = document.querySelector('#df-08c13936-bb3d-4890-bbb2-8c29f005c12c');\n",
              "          const dataTable =\n",
              "            await google.colab.kernel.invokeFunction('convertToInteractive',\n",
              "                                                     [key], {});\n",
              "          if (!dataTable) return;\n",
              "\n",
              "          const docLinkHtml = 'Like what you see? Visit the ' +\n",
              "            '<a target=\"_blank\" href=https://colab.research.google.com/notebooks/data_table.ipynb>data table notebook</a>'\n",
              "            + ' to learn more about interactive tables.';\n",
              "          element.innerHTML = '';\n",
              "          dataTable['output_type'] = 'display_data';\n",
              "          await google.colab.output.renderOutput(dataTable, element);\n",
              "          const docLink = document.createElement('div');\n",
              "          docLink.innerHTML = docLinkHtml;\n",
              "          element.appendChild(docLink);\n",
              "        }\n",
              "      </script>\n",
              "    </div>\n",
              "  </div>\n",
              "  "
            ]
          },
          "metadata": {},
          "execution_count": 15
        }
      ]
    },
    {
      "cell_type": "code",
      "source": [
        "\n",
        "df[[\"Label\", \"Classification\"]].tail(3)"
      ],
      "metadata": {
        "colab": {
          "base_uri": "https://localhost:8080/",
          "height": 143
        },
        "id": "tXvghT5Rmg2K",
        "outputId": "6e4db074-f6df-48e3-fc01-cc843d2d494a"
      },
      "execution_count": null,
      "outputs": [
        {
          "output_type": "execute_result",
          "data": {
            "text/plain": [
              "          Label  Classification\n",
              "373  legitimate               0\n",
              "374  legitimate               0\n",
              "375  legitimate               0"
            ],
            "text/html": [
              "\n",
              "  <div id=\"df-1ad0fae0-1a28-46fc-bd26-1c2f8f2d61be\">\n",
              "    <div class=\"colab-df-container\">\n",
              "      <div>\n",
              "<style scoped>\n",
              "    .dataframe tbody tr th:only-of-type {\n",
              "        vertical-align: middle;\n",
              "    }\n",
              "\n",
              "    .dataframe tbody tr th {\n",
              "        vertical-align: top;\n",
              "    }\n",
              "\n",
              "    .dataframe thead th {\n",
              "        text-align: right;\n",
              "    }\n",
              "</style>\n",
              "<table border=\"1\" class=\"dataframe\">\n",
              "  <thead>\n",
              "    <tr style=\"text-align: right;\">\n",
              "      <th></th>\n",
              "      <th>Label</th>\n",
              "      <th>Classification</th>\n",
              "    </tr>\n",
              "  </thead>\n",
              "  <tbody>\n",
              "    <tr>\n",
              "      <th>373</th>\n",
              "      <td>legitimate</td>\n",
              "      <td>0</td>\n",
              "    </tr>\n",
              "    <tr>\n",
              "      <th>374</th>\n",
              "      <td>legitimate</td>\n",
              "      <td>0</td>\n",
              "    </tr>\n",
              "    <tr>\n",
              "      <th>375</th>\n",
              "      <td>legitimate</td>\n",
              "      <td>0</td>\n",
              "    </tr>\n",
              "  </tbody>\n",
              "</table>\n",
              "</div>\n",
              "      <button class=\"colab-df-convert\" onclick=\"convertToInteractive('df-1ad0fae0-1a28-46fc-bd26-1c2f8f2d61be')\"\n",
              "              title=\"Convert this dataframe to an interactive table.\"\n",
              "              style=\"display:none;\">\n",
              "        \n",
              "  <svg xmlns=\"http://www.w3.org/2000/svg\" height=\"24px\"viewBox=\"0 0 24 24\"\n",
              "       width=\"24px\">\n",
              "    <path d=\"M0 0h24v24H0V0z\" fill=\"none\"/>\n",
              "    <path d=\"M18.56 5.44l.94 2.06.94-2.06 2.06-.94-2.06-.94-.94-2.06-.94 2.06-2.06.94zm-11 1L8.5 8.5l.94-2.06 2.06-.94-2.06-.94L8.5 2.5l-.94 2.06-2.06.94zm10 10l.94 2.06.94-2.06 2.06-.94-2.06-.94-.94-2.06-.94 2.06-2.06.94z\"/><path d=\"M17.41 7.96l-1.37-1.37c-.4-.4-.92-.59-1.43-.59-.52 0-1.04.2-1.43.59L10.3 9.45l-7.72 7.72c-.78.78-.78 2.05 0 2.83L4 21.41c.39.39.9.59 1.41.59.51 0 1.02-.2 1.41-.59l7.78-7.78 2.81-2.81c.8-.78.8-2.07 0-2.86zM5.41 20L4 18.59l7.72-7.72 1.47 1.35L5.41 20z\"/>\n",
              "  </svg>\n",
              "      </button>\n",
              "      \n",
              "  <style>\n",
              "    .colab-df-container {\n",
              "      display:flex;\n",
              "      flex-wrap:wrap;\n",
              "      gap: 12px;\n",
              "    }\n",
              "\n",
              "    .colab-df-convert {\n",
              "      background-color: #E8F0FE;\n",
              "      border: none;\n",
              "      border-radius: 50%;\n",
              "      cursor: pointer;\n",
              "      display: none;\n",
              "      fill: #1967D2;\n",
              "      height: 32px;\n",
              "      padding: 0 0 0 0;\n",
              "      width: 32px;\n",
              "    }\n",
              "\n",
              "    .colab-df-convert:hover {\n",
              "      background-color: #E2EBFA;\n",
              "      box-shadow: 0px 1px 2px rgba(60, 64, 67, 0.3), 0px 1px 3px 1px rgba(60, 64, 67, 0.15);\n",
              "      fill: #174EA6;\n",
              "    }\n",
              "\n",
              "    [theme=dark] .colab-df-convert {\n",
              "      background-color: #3B4455;\n",
              "      fill: #D2E3FC;\n",
              "    }\n",
              "\n",
              "    [theme=dark] .colab-df-convert:hover {\n",
              "      background-color: #434B5C;\n",
              "      box-shadow: 0px 1px 3px 1px rgba(0, 0, 0, 0.15);\n",
              "      filter: drop-shadow(0px 1px 2px rgba(0, 0, 0, 0.3));\n",
              "      fill: #FFFFFF;\n",
              "    }\n",
              "  </style>\n",
              "\n",
              "      <script>\n",
              "        const buttonEl =\n",
              "          document.querySelector('#df-1ad0fae0-1a28-46fc-bd26-1c2f8f2d61be button.colab-df-convert');\n",
              "        buttonEl.style.display =\n",
              "          google.colab.kernel.accessAllowed ? 'block' : 'none';\n",
              "\n",
              "        async function convertToInteractive(key) {\n",
              "          const element = document.querySelector('#df-1ad0fae0-1a28-46fc-bd26-1c2f8f2d61be');\n",
              "          const dataTable =\n",
              "            await google.colab.kernel.invokeFunction('convertToInteractive',\n",
              "                                                     [key], {});\n",
              "          if (!dataTable) return;\n",
              "\n",
              "          const docLinkHtml = 'Like what you see? Visit the ' +\n",
              "            '<a target=\"_blank\" href=https://colab.research.google.com/notebooks/data_table.ipynb>data table notebook</a>'\n",
              "            + ' to learn more about interactive tables.';\n",
              "          element.innerHTML = '';\n",
              "          dataTable['output_type'] = 'display_data';\n",
              "          await google.colab.output.renderOutput(dataTable, element);\n",
              "          const docLink = document.createElement('div');\n",
              "          docLink.innerHTML = docLinkHtml;\n",
              "          element.appendChild(docLink);\n",
              "        }\n",
              "      </script>\n",
              "    </div>\n",
              "  </div>\n",
              "  "
            ]
          },
          "metadata": {},
          "execution_count": 16
        }
      ]
    },
    {
      "cell_type": "code",
      "source": [
        "del_col_list = ['Label']\n",
        "df = df.drop(del_col_list, axis=1)"
      ],
      "metadata": {
        "id": "_VCpkrOqmiLi"
      },
      "execution_count": null,
      "outputs": []
    },
    {
      "cell_type": "code",
      "source": [
        "df.head()"
      ],
      "metadata": {
        "colab": {
          "base_uri": "https://localhost:8080/",
          "height": 206
        },
        "id": "euBLQxSrmojC",
        "outputId": "b58b84d8-ab0e-4b6d-8d44-6ed12b3a1e61"
      },
      "execution_count": null,
      "outputs": [
        {
          "output_type": "execute_result",
          "data": {
            "text/plain": [
              "                                             Message  Classification\n",
              "0  @ee00 ROGERS = 5:11PM $ 58% SL)\\n\\n< oO Â®\\n\\n...               1\n",
              "1                       Send message\\nfrom Office\\n\n",
              "               1\n",
              "2  @ Ge.) 90% MF 10:05\\n\\n \\n\\nâ¬ +91 8287533. B...               1\n",
              "3  <â¬ 42349061869... Â® %&\\n\\nDear customer, Du...               1\n",
              "4  eeeee T-Mobile LTE 9:22 AM 7k =\\n\\n< eg @\\n\\n+...               1"
            ],
            "text/html": [
              "\n",
              "  <div id=\"df-456084e3-1dee-4712-ae84-d10e61bbe10d\">\n",
              "    <div class=\"colab-df-container\">\n",
              "      <div>\n",
              "<style scoped>\n",
              "    .dataframe tbody tr th:only-of-type {\n",
              "        vertical-align: middle;\n",
              "    }\n",
              "\n",
              "    .dataframe tbody tr th {\n",
              "        vertical-align: top;\n",
              "    }\n",
              "\n",
              "    .dataframe thead th {\n",
              "        text-align: right;\n",
              "    }\n",
              "</style>\n",
              "<table border=\"1\" class=\"dataframe\">\n",
              "  <thead>\n",
              "    <tr style=\"text-align: right;\">\n",
              "      <th></th>\n",
              "      <th>Message</th>\n",
              "      <th>Classification</th>\n",
              "    </tr>\n",
              "  </thead>\n",
              "  <tbody>\n",
              "    <tr>\n",
              "      <th>0</th>\n",
              "      <td>@ee00 ROGERS = 5:11PM $ 58% SL)\\n\\n&lt; oO Â®\\n\\n...</td>\n",
              "      <td>1</td>\n",
              "    </tr>\n",
              "    <tr>\n",
              "      <th>1</th>\n",
              "      <td>Send message\\nfrom Office\\n</td>\n",
              "      <td>1</td>\n",
              "    </tr>\n",
              "    <tr>\n",
              "      <th>2</th>\n",
              "      <td>@ Ge.) 90% MF 10:05\\n\\n \\n\\nâ¬ +91 8287533. B...</td>\n",
              "      <td>1</td>\n",
              "    </tr>\n",
              "    <tr>\n",
              "      <th>3</th>\n",
              "      <td>&lt;â¬ 42349061869... Â® %&amp;\\n\\nDear customer, Du...</td>\n",
              "      <td>1</td>\n",
              "    </tr>\n",
              "    <tr>\n",
              "      <th>4</th>\n",
              "      <td>eeeee T-Mobile LTE 9:22 AM 7k =\\n\\n&lt; eg @\\n\\n+...</td>\n",
              "      <td>1</td>\n",
              "    </tr>\n",
              "  </tbody>\n",
              "</table>\n",
              "</div>\n",
              "      <button class=\"colab-df-convert\" onclick=\"convertToInteractive('df-456084e3-1dee-4712-ae84-d10e61bbe10d')\"\n",
              "              title=\"Convert this dataframe to an interactive table.\"\n",
              "              style=\"display:none;\">\n",
              "        \n",
              "  <svg xmlns=\"http://www.w3.org/2000/svg\" height=\"24px\"viewBox=\"0 0 24 24\"\n",
              "       width=\"24px\">\n",
              "    <path d=\"M0 0h24v24H0V0z\" fill=\"none\"/>\n",
              "    <path d=\"M18.56 5.44l.94 2.06.94-2.06 2.06-.94-2.06-.94-.94-2.06-.94 2.06-2.06.94zm-11 1L8.5 8.5l.94-2.06 2.06-.94-2.06-.94L8.5 2.5l-.94 2.06-2.06.94zm10 10l.94 2.06.94-2.06 2.06-.94-2.06-.94-.94-2.06-.94 2.06-2.06.94z\"/><path d=\"M17.41 7.96l-1.37-1.37c-.4-.4-.92-.59-1.43-.59-.52 0-1.04.2-1.43.59L10.3 9.45l-7.72 7.72c-.78.78-.78 2.05 0 2.83L4 21.41c.39.39.9.59 1.41.59.51 0 1.02-.2 1.41-.59l7.78-7.78 2.81-2.81c.8-.78.8-2.07 0-2.86zM5.41 20L4 18.59l7.72-7.72 1.47 1.35L5.41 20z\"/>\n",
              "  </svg>\n",
              "      </button>\n",
              "      \n",
              "  <style>\n",
              "    .colab-df-container {\n",
              "      display:flex;\n",
              "      flex-wrap:wrap;\n",
              "      gap: 12px;\n",
              "    }\n",
              "\n",
              "    .colab-df-convert {\n",
              "      background-color: #E8F0FE;\n",
              "      border: none;\n",
              "      border-radius: 50%;\n",
              "      cursor: pointer;\n",
              "      display: none;\n",
              "      fill: #1967D2;\n",
              "      height: 32px;\n",
              "      padding: 0 0 0 0;\n",
              "      width: 32px;\n",
              "    }\n",
              "\n",
              "    .colab-df-convert:hover {\n",
              "      background-color: #E2EBFA;\n",
              "      box-shadow: 0px 1px 2px rgba(60, 64, 67, 0.3), 0px 1px 3px 1px rgba(60, 64, 67, 0.15);\n",
              "      fill: #174EA6;\n",
              "    }\n",
              "\n",
              "    [theme=dark] .colab-df-convert {\n",
              "      background-color: #3B4455;\n",
              "      fill: #D2E3FC;\n",
              "    }\n",
              "\n",
              "    [theme=dark] .colab-df-convert:hover {\n",
              "      background-color: #434B5C;\n",
              "      box-shadow: 0px 1px 3px 1px rgba(0, 0, 0, 0.15);\n",
              "      filter: drop-shadow(0px 1px 2px rgba(0, 0, 0, 0.3));\n",
              "      fill: #FFFFFF;\n",
              "    }\n",
              "  </style>\n",
              "\n",
              "      <script>\n",
              "        const buttonEl =\n",
              "          document.querySelector('#df-456084e3-1dee-4712-ae84-d10e61bbe10d button.colab-df-convert');\n",
              "        buttonEl.style.display =\n",
              "          google.colab.kernel.accessAllowed ? 'block' : 'none';\n",
              "\n",
              "        async function convertToInteractive(key) {\n",
              "          const element = document.querySelector('#df-456084e3-1dee-4712-ae84-d10e61bbe10d');\n",
              "          const dataTable =\n",
              "            await google.colab.kernel.invokeFunction('convertToInteractive',\n",
              "                                                     [key], {});\n",
              "          if (!dataTable) return;\n",
              "\n",
              "          const docLinkHtml = 'Like what you see? Visit the ' +\n",
              "            '<a target=\"_blank\" href=https://colab.research.google.com/notebooks/data_table.ipynb>data table notebook</a>'\n",
              "            + ' to learn more about interactive tables.';\n",
              "          element.innerHTML = '';\n",
              "          dataTable['output_type'] = 'display_data';\n",
              "          await google.colab.output.renderOutput(dataTable, element);\n",
              "          const docLink = document.createElement('div');\n",
              "          docLink.innerHTML = docLinkHtml;\n",
              "          element.appendChild(docLink);\n",
              "        }\n",
              "      </script>\n",
              "    </div>\n",
              "  </div>\n",
              "  "
            ]
          },
          "metadata": {},
          "execution_count": 18
        }
      ]
    },
    {
      "cell_type": "code",
      "source": [
        "def clean_text(text):\n",
        "  text = text.lower()\n",
        "  text = re.sub(r'[^0-9a-zA-Z]', ' ', text)\n",
        "  text = re.sub(r'\\s+', ' ', text)\n",
        "  return text"
      ],
      "metadata": {
        "id": "s8o5iAJcmqmB"
      },
      "execution_count": null,
      "outputs": []
    },
    {
      "cell_type": "code",
      "source": [
        "df['Clean Text'] = df['Message'].apply(clean_text)"
      ],
      "metadata": {
        "id": "iGkfKJva4HaY"
      },
      "execution_count": null,
      "outputs": []
    },
    {
      "cell_type": "code",
      "source": [
        "df.head(3)"
      ],
      "metadata": {
        "colab": {
          "base_uri": "https://localhost:8080/",
          "height": 222
        },
        "id": "i-ssP57a4Jrd",
        "outputId": "8797fb02-cb4f-4493-f7b6-f7145789a0f8"
      },
      "execution_count": null,
      "outputs": [
        {
          "output_type": "execute_result",
          "data": {
            "text/plain": [
              "                                             Message  Classification  \\\n",
              "0  @ee00 ROGERS = 5:11PM $ 58% SL)\\n\\n< oO Â®\\n\\n...               1   \n",
              "1                       Send message\\nfrom Office\\n\n",
              "               1   \n",
              "2  @ Ge.) 90% MF 10:05\\n\\n \\n\\nâ¬ +91 8287533. B...               1   \n",
              "\n",
              "                                          Clean Text  \n",
              "0   ee00 rogers 5 11pm 58 sl oo 1 437 991 4178 te...  \n",
              "1                          send message from office   \n",
              "2   ge 90 mf 10 05 91 8287533 bx ur mobile number...  "
            ],
            "text/html": [
              "\n",
              "  <div id=\"df-9724fa87-71a2-4765-9312-c69d0bf0fff9\">\n",
              "    <div class=\"colab-df-container\">\n",
              "      <div>\n",
              "<style scoped>\n",
              "    .dataframe tbody tr th:only-of-type {\n",
              "        vertical-align: middle;\n",
              "    }\n",
              "\n",
              "    .dataframe tbody tr th {\n",
              "        vertical-align: top;\n",
              "    }\n",
              "\n",
              "    .dataframe thead th {\n",
              "        text-align: right;\n",
              "    }\n",
              "</style>\n",
              "<table border=\"1\" class=\"dataframe\">\n",
              "  <thead>\n",
              "    <tr style=\"text-align: right;\">\n",
              "      <th></th>\n",
              "      <th>Message</th>\n",
              "      <th>Classification</th>\n",
              "      <th>Clean Text</th>\n",
              "    </tr>\n",
              "  </thead>\n",
              "  <tbody>\n",
              "    <tr>\n",
              "      <th>0</th>\n",
              "      <td>@ee00 ROGERS = 5:11PM $ 58% SL)\\n\\n&lt; oO Â®\\n\\n...</td>\n",
              "      <td>1</td>\n",
              "      <td>ee00 rogers 5 11pm 58 sl oo 1 437 991 4178 te...</td>\n",
              "    </tr>\n",
              "    <tr>\n",
              "      <th>1</th>\n",
              "      <td>Send message\\nfrom Office\\n</td>\n",
              "      <td>1</td>\n",
              "      <td>send message from office</td>\n",
              "    </tr>\n",
              "    <tr>\n",
              "      <th>2</th>\n",
              "      <td>@ Ge.) 90% MF 10:05\\n\\n \\n\\nâ¬ +91 8287533. B...</td>\n",
              "      <td>1</td>\n",
              "      <td>ge 90 mf 10 05 91 8287533 bx ur mobile number...</td>\n",
              "    </tr>\n",
              "  </tbody>\n",
              "</table>\n",
              "</div>\n",
              "      <button class=\"colab-df-convert\" onclick=\"convertToInteractive('df-9724fa87-71a2-4765-9312-c69d0bf0fff9')\"\n",
              "              title=\"Convert this dataframe to an interactive table.\"\n",
              "              style=\"display:none;\">\n",
              "        \n",
              "  <svg xmlns=\"http://www.w3.org/2000/svg\" height=\"24px\"viewBox=\"0 0 24 24\"\n",
              "       width=\"24px\">\n",
              "    <path d=\"M0 0h24v24H0V0z\" fill=\"none\"/>\n",
              "    <path d=\"M18.56 5.44l.94 2.06.94-2.06 2.06-.94-2.06-.94-.94-2.06-.94 2.06-2.06.94zm-11 1L8.5 8.5l.94-2.06 2.06-.94-2.06-.94L8.5 2.5l-.94 2.06-2.06.94zm10 10l.94 2.06.94-2.06 2.06-.94-2.06-.94-.94-2.06-.94 2.06-2.06.94z\"/><path d=\"M17.41 7.96l-1.37-1.37c-.4-.4-.92-.59-1.43-.59-.52 0-1.04.2-1.43.59L10.3 9.45l-7.72 7.72c-.78.78-.78 2.05 0 2.83L4 21.41c.39.39.9.59 1.41.59.51 0 1.02-.2 1.41-.59l7.78-7.78 2.81-2.81c.8-.78.8-2.07 0-2.86zM5.41 20L4 18.59l7.72-7.72 1.47 1.35L5.41 20z\"/>\n",
              "  </svg>\n",
              "      </button>\n",
              "      \n",
              "  <style>\n",
              "    .colab-df-container {\n",
              "      display:flex;\n",
              "      flex-wrap:wrap;\n",
              "      gap: 12px;\n",
              "    }\n",
              "\n",
              "    .colab-df-convert {\n",
              "      background-color: #E8F0FE;\n",
              "      border: none;\n",
              "      border-radius: 50%;\n",
              "      cursor: pointer;\n",
              "      display: none;\n",
              "      fill: #1967D2;\n",
              "      height: 32px;\n",
              "      padding: 0 0 0 0;\n",
              "      width: 32px;\n",
              "    }\n",
              "\n",
              "    .colab-df-convert:hover {\n",
              "      background-color: #E2EBFA;\n",
              "      box-shadow: 0px 1px 2px rgba(60, 64, 67, 0.3), 0px 1px 3px 1px rgba(60, 64, 67, 0.15);\n",
              "      fill: #174EA6;\n",
              "    }\n",
              "\n",
              "    [theme=dark] .colab-df-convert {\n",
              "      background-color: #3B4455;\n",
              "      fill: #D2E3FC;\n",
              "    }\n",
              "\n",
              "    [theme=dark] .colab-df-convert:hover {\n",
              "      background-color: #434B5C;\n",
              "      box-shadow: 0px 1px 3px 1px rgba(0, 0, 0, 0.15);\n",
              "      filter: drop-shadow(0px 1px 2px rgba(0, 0, 0, 0.3));\n",
              "      fill: #FFFFFF;\n",
              "    }\n",
              "  </style>\n",
              "\n",
              "      <script>\n",
              "        const buttonEl =\n",
              "          document.querySelector('#df-9724fa87-71a2-4765-9312-c69d0bf0fff9 button.colab-df-convert');\n",
              "        buttonEl.style.display =\n",
              "          google.colab.kernel.accessAllowed ? 'block' : 'none';\n",
              "\n",
              "        async function convertToInteractive(key) {\n",
              "          const element = document.querySelector('#df-9724fa87-71a2-4765-9312-c69d0bf0fff9');\n",
              "          const dataTable =\n",
              "            await google.colab.kernel.invokeFunction('convertToInteractive',\n",
              "                                                     [key], {});\n",
              "          if (!dataTable) return;\n",
              "\n",
              "          const docLinkHtml = 'Like what you see? Visit the ' +\n",
              "            '<a target=\"_blank\" href=https://colab.research.google.com/notebooks/data_table.ipynb>data table notebook</a>'\n",
              "            + ' to learn more about interactive tables.';\n",
              "          element.innerHTML = '';\n",
              "          dataTable['output_type'] = 'display_data';\n",
              "          await google.colab.output.renderOutput(dataTable, element);\n",
              "          const docLink = document.createElement('div');\n",
              "          docLink.innerHTML = docLinkHtml;\n",
              "          element.appendChild(docLink);\n",
              "        }\n",
              "      </script>\n",
              "    </div>\n",
              "  </div>\n",
              "  "
            ]
          },
          "metadata": {},
          "execution_count": 21
        }
      ]
    },
    {
      "cell_type": "markdown",
      "source": [
        "Creation of method for building and prediction of models"
      ],
      "metadata": {
        "id": "7lsswOl34p8q"
      }
    },
    {
      "cell_type": "code",
      "source": [
        "from sklearn.pipeline import Pipeline\n",
        "from sklearn.model_selection import train_test_split\n",
        "from sklearn.metrics import classification_report,confusion_matrix\n",
        "from sklearn.linear_model import LinearRegression\n",
        "from sklearn.decomposition import PCA #importing PCA for the dimensionality reduction \n",
        "from sklearn.feature_extraction.text import CountVectorizer, TfidfVectorizer, TfidfTransformer"
      ],
      "metadata": {
        "id": "8CV9xJyr4nR-"
      },
      "execution_count": null,
      "outputs": []
    },
    {
      "cell_type": "code",
      "source": [
        "#split data into training and testing\n",
        "X_train, X_test, y_train, y_test = train_test_split(X, y, test_size = 0.20)"
      ],
      "metadata": {
        "id": "oFImRbInMKbe"
      },
      "execution_count": null,
      "outputs": []
    },
    {
      "cell_type": "code",
      "source": [
        "def Model(model, X, y):\n",
        "  #build models - using CountVectoriser, TfidTransformer\n",
        "  pipeline = Pipeline([('vect', CountVectorizer()), \n",
        "                       ('tfidf', TfidfTransformer()),\n",
        "                       ('clf', model)])\n",
        "  pipeline.fit(X_train, y_train)\n",
        "\n",
        "  y_prediction = pipeline.predict(X_test)\n",
        "  y_proba = pipeline.predict_proba(X_test)\n",
        "\n",
        "  print(\"CLASSIFCATION REPORT:\\n\", classification_report(y_test, y_prediction))\n",
        "  print(\"ACCURACY:\", pipeline.score(X_test, y_test)*100)\n",
        "  print(\"TRAINING SCORE:\", pipeline.score(X_train, y_train)*100)"
      ],
      "metadata": {
        "id": "OxpUUcSs4uGD"
      },
      "execution_count": null,
      "outputs": []
    },
    {
      "cell_type": "code",
      "source": [
        "X = df['Clean Text']\n",
        "y = df['Classification']"
      ],
      "metadata": {
        "id": "nDv3arHc4hlD"
      },
      "execution_count": null,
      "outputs": []
    },
    {
      "cell_type": "markdown",
      "source": [
        "**Logistic Regression**"
      ],
      "metadata": {
        "id": "-X0FhATu4yqI"
      }
    },
    {
      "cell_type": "code",
      "source": [
        "from sklearn.linear_model import LogisticRegression\n",
        "model = LogisticRegression()\n",
        "Model(model, X, y)"
      ],
      "metadata": {
        "colab": {
          "base_uri": "https://localhost:8080/"
        },
        "id": "6kcspUWe4wD7",
        "outputId": "db66090b-1f07-425c-a7e7-ea712e8c036e"
      },
      "execution_count": null,
      "outputs": [
        {
          "output_type": "stream",
          "name": "stdout",
          "text": [
            "CLASSIFCATION REPORT:\n",
            "               precision    recall  f1-score   support\n",
            "\n",
            "           0       0.90      1.00      0.95        36\n",
            "           1       1.00      0.90      0.95        40\n",
            "\n",
            "    accuracy                           0.95        76\n",
            "   macro avg       0.95      0.95      0.95        76\n",
            "weighted avg       0.95      0.95      0.95        76\n",
            "\n",
            "ACCURACY: 94.73684210526315\n",
            "TRAINING SCORE: 98.33333333333333\n"
          ]
        }
      ]
    },
    {
      "cell_type": "code",
      "source": [
        "from sklearn.neighbors import KNeighborsClassifier\n",
        "model=KNeighborsClassifier(n_neighbors=7)\n",
        "Model(model,X,y)"
      ],
      "metadata": {
        "colab": {
          "base_uri": "https://localhost:8080/"
        },
        "id": "rZ2MAu7F7BtM",
        "outputId": "303a9ec1-591d-4895-a87d-2a225c3f5aa9"
      },
      "execution_count": null,
      "outputs": [
        {
          "output_type": "stream",
          "name": "stdout",
          "text": [
            "CLASSIFCATION REPORT:\n",
            "               precision    recall  f1-score   support\n",
            "\n",
            "           0       0.49      0.78      0.60        36\n",
            "           1       0.58      0.28      0.37        40\n",
            "\n",
            "    accuracy                           0.51        76\n",
            "   macro avg       0.54      0.53      0.49        76\n",
            "weighted avg       0.54      0.51      0.48        76\n",
            "\n",
            "ACCURACY: 51.31578947368421\n",
            "TRAINING SCORE: 72.66666666666667\n"
          ]
        }
      ]
    },
    {
      "cell_type": "code",
      "source": [
        "from sklearn.svm import SVC\n",
        "model = SVC(probability=True )\n",
        "Model(model, X, y)"
      ],
      "metadata": {
        "colab": {
          "base_uri": "https://localhost:8080/"
        },
        "id": "uV1lU-Qs9yvW",
        "outputId": "144cee38-7426-4c11-eba8-bb2d91ad85d4"
      },
      "execution_count": null,
      "outputs": [
        {
          "output_type": "stream",
          "name": "stdout",
          "text": [
            "CLASSIFCATION REPORT:\n",
            "               precision    recall  f1-score   support\n",
            "\n",
            "           0       0.97      0.89      0.93        37\n",
            "           1       0.90      0.97      0.94        39\n",
            "\n",
            "    accuracy                           0.93        76\n",
            "   macro avg       0.94      0.93      0.93        76\n",
            "weighted avg       0.94      0.93      0.93        76\n",
            "\n",
            "ACCURACY: 93.42105263157895\n",
            "TRAINING SCORE: 97.66666666666667\n"
          ]
        }
      ]
    },
    {
      "cell_type": "code",
      "source": [
        "from sklearn.naive_bayes import BernoulliNB\n",
        "model = BernoulliNB()\n",
        "Model(model, X, y)"
      ],
      "metadata": {
        "colab": {
          "base_uri": "https://localhost:8080/"
        },
        "id": "cpipaeZo91BC",
        "outputId": "39f01ce3-3b5b-48a8-9732-3881b4bace69"
      },
      "execution_count": null,
      "outputs": [
        {
          "output_type": "stream",
          "name": "stdout",
          "text": [
            "CLASSIFCATION REPORT:\n",
            "               precision    recall  f1-score   support\n",
            "\n",
            "           0       0.93      0.98      0.95        42\n",
            "           1       0.97      0.91      0.94        34\n",
            "\n",
            "    accuracy                           0.95        76\n",
            "   macro avg       0.95      0.94      0.95        76\n",
            "weighted avg       0.95      0.95      0.95        76\n",
            "\n",
            "ACCURACY: 94.73684210526315\n",
            "TRAINING SCORE: 96.66666666666667\n"
          ]
        }
      ]
    },
    {
      "cell_type": "code",
      "source": [
        "from sklearn import tree\n",
        "tree_clf = tree.DecisionTreeClassifier(max_depth=6, random_state=123,criterion='entropy')\n",
        "Model(tree_clf,X,y)"
      ],
      "metadata": {
        "colab": {
          "base_uri": "https://localhost:8080/"
        },
        "id": "kKiLGAaB922h",
        "outputId": "e5d6d74d-1af1-44fe-9058-d98eb326cb58"
      },
      "execution_count": null,
      "outputs": [
        {
          "output_type": "stream",
          "name": "stdout",
          "text": [
            "CLASSIFCATION REPORT:\n",
            "               precision    recall  f1-score   support\n",
            "\n",
            "           0       0.62      0.89      0.73        35\n",
            "           1       0.85      0.54      0.66        41\n",
            "\n",
            "    accuracy                           0.70        76\n",
            "   macro avg       0.73      0.71      0.69        76\n",
            "weighted avg       0.74      0.70      0.69        76\n",
            "\n",
            "ACCURACY: 69.73684210526315\n",
            "TRAINING SCORE: 92.33333333333333\n"
          ]
        }
      ]
    },
    {
      "cell_type": "code",
      "source": [
        "from sklearn.ensemble import RandomForestClassifier\n",
        "model = RandomForestClassifier()\n",
        "Model(model, X, y)"
      ],
      "metadata": {
        "colab": {
          "base_uri": "https://localhost:8080/"
        },
        "id": "PvATGWdS941E",
        "outputId": "521185a7-2b08-47fa-dbaf-40ff934676f2"
      },
      "execution_count": null,
      "outputs": [
        {
          "output_type": "stream",
          "name": "stdout",
          "text": [
            "CLASSIFCATION REPORT:\n",
            "               precision    recall  f1-score   support\n",
            "\n",
            "           0       0.88      1.00      0.94        38\n",
            "           1       1.00      0.87      0.93        38\n",
            "\n",
            "    accuracy                           0.93        76\n",
            "   macro avg       0.94      0.93      0.93        76\n",
            "weighted avg       0.94      0.93      0.93        76\n",
            "\n",
            "ACCURACY: 93.42105263157895\n",
            "TRAINING SCORE: 98.0\n"
          ]
        }
      ]
    },
    {
      "cell_type": "code",
      "source": [
        "from sklearn.neural_network import MLPClassifier\n",
        "clf = MLPClassifier(solver='lbfgs', alpha=1e-5, hidden_layer_sizes=(5, 2), random_state=1)\n",
        "Model(clf, X, y)\n",
        "#https://scikit-learn.org/stable/modules/neural_networks_supervised.html"
      ],
      "metadata": {
        "colab": {
          "base_uri": "https://localhost:8080/"
        },
        "id": "0oPJKs1mkg30",
        "outputId": "bb24510d-49bb-491c-906d-af845fa1f792"
      },
      "execution_count": null,
      "outputs": [
        {
          "output_type": "stream",
          "name": "stdout",
          "text": [
            "CLASSIFCATION REPORT:\n",
            "               precision    recall  f1-score   support\n",
            "\n",
            "           0       0.90      0.97      0.94        37\n",
            "           1       0.97      0.90      0.93        39\n",
            "\n",
            "    accuracy                           0.93        76\n",
            "   macro avg       0.94      0.94      0.93        76\n",
            "weighted avg       0.94      0.93      0.93        76\n",
            "\n",
            "ACCURACY: 93.42105263157895\n",
            "TRAINING SCORE: 98.33333333333333\n"
          ]
        }
      ]
    },
    {
      "cell_type": "markdown",
      "source": [
        "#System"
      ],
      "metadata": {
        "id": "f9G8bqt2o5Qs"
      }
    },
    {
      "cell_type": "markdown",
      "source": [
        "This system does not currenlty include the machine learning aspect to idenify the classification of messages without URLs - due to low accuracy acheived in the training stage"
      ],
      "metadata": {
        "id": "wsovtPFMpsie"
      }
    },
    {
      "cell_type": "code",
      "source": [
        "X = df['Clean Text']\n",
        "y = df['Classification']"
      ],
      "metadata": {
        "colab": {
          "base_uri": "https://localhost:8080/"
        },
        "id": "7FwFDFgu0DaZ",
        "outputId": "474cab4c-71e8-4207-d9ef-a59ea98d0e35"
      },
      "execution_count": null,
      "outputs": [
        {
          "output_type": "stream",
          "name": "stdout",
          "text": [
            "CLASSIFCATION REPORT:\n",
            "               precision    recall  f1-score   support\n",
            "\n",
            "           0       0.89      0.95      0.92        41\n",
            "           1       0.94      0.86      0.90        35\n",
            "\n",
            "    accuracy                           0.91        76\n",
            "   macro avg       0.91      0.90      0.91        76\n",
            "weighted avg       0.91      0.91      0.91        76\n",
            "\n",
            "ACCURACY: 90.78947368421053\n",
            "TRAINING SCORE: 97.33333333333334\n"
          ]
        }
      ]
    },
    {
      "cell_type": "code",
      "source": [
        "sys_pipeline = Pipeline([('vect', CountVectorizer()), \n",
        "                     ('tfidf', TfidfTransformer()),\n",
        "                     ('clf', LogisticRegression())])\n",
        "sys_pipeline.fit(X_train, y_train)\n"
      ],
      "metadata": {
        "colab": {
          "base_uri": "https://localhost:8080/"
        },
        "id": "HJnrjQz8J15q",
        "outputId": "9290aebd-77e4-4748-ca0d-f88f8814891b"
      },
      "execution_count": null,
      "outputs": [
        {
          "output_type": "execute_result",
          "data": {
            "text/plain": [
              "Pipeline(steps=[('vect', CountVectorizer()), ('tfidf', TfidfTransformer()),\n",
              "                ('clf', LogisticRegression())])"
            ]
          },
          "metadata": {},
          "execution_count": 71
        }
      ]
    },
    {
      "cell_type": "markdown",
      "source": [
        "Testing system by uploading a legitimte text:"
      ],
      "metadata": {
        "id": "lT3aCmDR2YM7"
      }
    },
    {
      "cell_type": "code",
      "source": [
        "from google.colab import files\n",
        "image = files.upload()\n",
        "text = convert_image_to_text(image)\n",
        "if has_url(text):\n",
        "  url = find_url(text)\n",
        "  send_url_to_vt(url) \n",
        "else:\n",
        "  text = [text]\n",
        "  outcome = sys_pipeline.predict(text)\n",
        "  if outcome == 1:\n",
        "    print(\"Predicted SMISHING text - Delete immediately!\")\n",
        "  elif outcome == 0:\n",
        "    print(\"Predicted LEGITIMATE text - Safe to reply\")"
      ],
      "metadata": {
        "id": "pkJJDEb4o6lc",
        "colab": {
          "resources": {
            "http://localhost:8080/nbextensions/google.colab/files.js": {
              "data": "Ly8gQ29weXJpZ2h0IDIwMTcgR29vZ2xlIExMQwovLwovLyBMaWNlbnNlZCB1bmRlciB0aGUgQXBhY2hlIExpY2Vuc2UsIFZlcnNpb24gMi4wICh0aGUgIkxpY2Vuc2UiKTsKLy8geW91IG1heSBub3QgdXNlIHRoaXMgZmlsZSBleGNlcHQgaW4gY29tcGxpYW5jZSB3aXRoIHRoZSBMaWNlbnNlLgovLyBZb3UgbWF5IG9idGFpbiBhIGNvcHkgb2YgdGhlIExpY2Vuc2UgYXQKLy8KLy8gICAgICBodHRwOi8vd3d3LmFwYWNoZS5vcmcvbGljZW5zZXMvTElDRU5TRS0yLjAKLy8KLy8gVW5sZXNzIHJlcXVpcmVkIGJ5IGFwcGxpY2FibGUgbGF3IG9yIGFncmVlZCB0byBpbiB3cml0aW5nLCBzb2Z0d2FyZQovLyBkaXN0cmlidXRlZCB1bmRlciB0aGUgTGljZW5zZSBpcyBkaXN0cmlidXRlZCBvbiBhbiAiQVMgSVMiIEJBU0lTLAovLyBXSVRIT1VUIFdBUlJBTlRJRVMgT1IgQ09ORElUSU9OUyBPRiBBTlkgS0lORCwgZWl0aGVyIGV4cHJlc3Mgb3IgaW1wbGllZC4KLy8gU2VlIHRoZSBMaWNlbnNlIGZvciB0aGUgc3BlY2lmaWMgbGFuZ3VhZ2UgZ292ZXJuaW5nIHBlcm1pc3Npb25zIGFuZAovLyBsaW1pdGF0aW9ucyB1bmRlciB0aGUgTGljZW5zZS4KCi8qKgogKiBAZmlsZW92ZXJ2aWV3IEhlbHBlcnMgZm9yIGdvb2dsZS5jb2xhYiBQeXRob24gbW9kdWxlLgogKi8KKGZ1bmN0aW9uKHNjb3BlKSB7CmZ1bmN0aW9uIHNwYW4odGV4dCwgc3R5bGVBdHRyaWJ1dGVzID0ge30pIHsKICBjb25zdCBlbGVtZW50ID0gZG9jdW1lbnQuY3JlYXRlRWxlbWVudCgnc3BhbicpOwogIGVsZW1lbnQudGV4dENvbnRlbnQgPSB0ZXh0OwogIGZvciAoY29uc3Qga2V5IG9mIE9iamVjdC5rZXlzKHN0eWxlQXR0cmlidXRlcykpIHsKICAgIGVsZW1lbnQuc3R5bGVba2V5XSA9IHN0eWxlQXR0cmlidXRlc1trZXldOwogIH0KICByZXR1cm4gZWxlbWVudDsKfQoKLy8gTWF4IG51bWJlciBvZiBieXRlcyB3aGljaCB3aWxsIGJlIHVwbG9hZGVkIGF0IGEgdGltZS4KY29uc3QgTUFYX1BBWUxPQURfU0laRSA9IDEwMCAqIDEwMjQ7CgpmdW5jdGlvbiBfdXBsb2FkRmlsZXMoaW5wdXRJZCwgb3V0cHV0SWQpIHsKICBjb25zdCBzdGVwcyA9IHVwbG9hZEZpbGVzU3RlcChpbnB1dElkLCBvdXRwdXRJZCk7CiAgY29uc3Qgb3V0cHV0RWxlbWVudCA9IGRvY3VtZW50LmdldEVsZW1lbnRCeUlkKG91dHB1dElkKTsKICAvLyBDYWNoZSBzdGVwcyBvbiB0aGUgb3V0cHV0RWxlbWVudCB0byBtYWtlIGl0IGF2YWlsYWJsZSBmb3IgdGhlIG5leHQgY2FsbAogIC8vIHRvIHVwbG9hZEZpbGVzQ29udGludWUgZnJvbSBQeXRob24uCiAgb3V0cHV0RWxlbWVudC5zdGVwcyA9IHN0ZXBzOwoKICByZXR1cm4gX3VwbG9hZEZpbGVzQ29udGludWUob3V0cHV0SWQpOwp9CgovLyBUaGlzIGlzIHJvdWdobHkgYW4gYXN5bmMgZ2VuZXJhdG9yIChub3Qgc3VwcG9ydGVkIGluIHRoZSBicm93c2VyIHlldCksCi8vIHdoZXJlIHRoZXJlIGFyZSBtdWx0aXBsZSBhc3luY2hyb25vdXMgc3RlcHMgYW5kIHRoZSBQeXRob24gc2lkZSBpcyBnb2luZwovLyB0byBwb2xsIGZvciBjb21wbGV0aW9uIG9mIGVhY2ggc3RlcC4KLy8gVGhpcyB1c2VzIGEgUHJvbWlzZSB0byBibG9jayB0aGUgcHl0aG9uIHNpZGUgb24gY29tcGxldGlvbiBvZiBlYWNoIHN0ZXAsCi8vIHRoZW4gcGFzc2VzIHRoZSByZXN1bHQgb2YgdGhlIHByZXZpb3VzIHN0ZXAgYXMgdGhlIGlucHV0IHRvIHRoZSBuZXh0IHN0ZXAuCmZ1bmN0aW9uIF91cGxvYWRGaWxlc0NvbnRpbnVlKG91dHB1dElkKSB7CiAgY29uc3Qgb3V0cHV0RWxlbWVudCA9IGRvY3VtZW50LmdldEVsZW1lbnRCeUlkKG91dHB1dElkKTsKICBjb25zdCBzdGVwcyA9IG91dHB1dEVsZW1lbnQuc3RlcHM7CgogIGNvbnN0IG5leHQgPSBzdGVwcy5uZXh0KG91dHB1dEVsZW1lbnQubGFzdFByb21pc2VWYWx1ZSk7CiAgcmV0dXJuIFByb21pc2UucmVzb2x2ZShuZXh0LnZhbHVlLnByb21pc2UpLnRoZW4oKHZhbHVlKSA9PiB7CiAgICAvLyBDYWNoZSB0aGUgbGFzdCBwcm9taXNlIHZhbHVlIHRvIG1ha2UgaXQgYXZhaWxhYmxlIHRvIHRoZSBuZXh0CiAgICAvLyBzdGVwIG9mIHRoZSBnZW5lcmF0b3IuCiAgICBvdXRwdXRFbGVtZW50Lmxhc3RQcm9taXNlVmFsdWUgPSB2YWx1ZTsKICAgIHJldHVybiBuZXh0LnZhbHVlLnJlc3BvbnNlOwogIH0pOwp9CgovKioKICogR2VuZXJhdG9yIGZ1bmN0aW9uIHdoaWNoIGlzIGNhbGxlZCBiZXR3ZWVuIGVhY2ggYXN5bmMgc3RlcCBvZiB0aGUgdXBsb2FkCiAqIHByb2Nlc3MuCiAqIEBwYXJhbSB7c3RyaW5nfSBpbnB1dElkIEVsZW1lbnQgSUQgb2YgdGhlIGlucHV0IGZpbGUgcGlja2VyIGVsZW1lbnQuCiAqIEBwYXJhbSB7c3RyaW5nfSBvdXRwdXRJZCBFbGVtZW50IElEIG9mIHRoZSBvdXRwdXQgZGlzcGxheS4KICogQHJldHVybiB7IUl0ZXJhYmxlPCFPYmplY3Q+fSBJdGVyYWJsZSBvZiBuZXh0IHN0ZXBzLgogKi8KZnVuY3Rpb24qIHVwbG9hZEZpbGVzU3RlcChpbnB1dElkLCBvdXRwdXRJZCkgewogIGNvbnN0IGlucHV0RWxlbWVudCA9IGRvY3VtZW50LmdldEVsZW1lbnRCeUlkKGlucHV0SWQpOwogIGlucHV0RWxlbWVudC5kaXNhYmxlZCA9IGZhbHNlOwoKICBjb25zdCBvdXRwdXRFbGVtZW50ID0gZG9jdW1lbnQuZ2V0RWxlbWVudEJ5SWQob3V0cHV0SWQpOwogIG91dHB1dEVsZW1lbnQuaW5uZXJIVE1MID0gJyc7CgogIGNvbnN0IHBpY2tlZFByb21pc2UgPSBuZXcgUHJvbWlzZSgocmVzb2x2ZSkgPT4gewogICAgaW5wdXRFbGVtZW50LmFkZEV2ZW50TGlzdGVuZXIoJ2NoYW5nZScsIChlKSA9PiB7CiAgICAgIHJlc29sdmUoZS50YXJnZXQuZmlsZXMpOwogICAgfSk7CiAgfSk7CgogIGNvbnN0IGNhbmNlbCA9IGRvY3VtZW50LmNyZWF0ZUVsZW1lbnQoJ2J1dHRvbicpOwogIGlucHV0RWxlbWVudC5wYXJlbnRFbGVtZW50LmFwcGVuZENoaWxkKGNhbmNlbCk7CiAgY2FuY2VsLnRleHRDb250ZW50ID0gJ0NhbmNlbCB1cGxvYWQnOwogIGNvbnN0IGNhbmNlbFByb21pc2UgPSBuZXcgUHJvbWlzZSgocmVzb2x2ZSkgPT4gewogICAgY2FuY2VsLm9uY2xpY2sgPSAoKSA9PiB7CiAgICAgIHJlc29sdmUobnVsbCk7CiAgICB9OwogIH0pOwoKICAvLyBXYWl0IGZvciB0aGUgdXNlciB0byBwaWNrIHRoZSBmaWxlcy4KICBjb25zdCBmaWxlcyA9IHlpZWxkIHsKICAgIHByb21pc2U6IFByb21pc2UucmFjZShbcGlja2VkUHJvbWlzZSwgY2FuY2VsUHJvbWlzZV0pLAogICAgcmVzcG9uc2U6IHsKICAgICAgYWN0aW9uOiAnc3RhcnRpbmcnLAogICAgfQogIH07CgogIGNhbmNlbC5yZW1vdmUoKTsKCiAgLy8gRGlzYWJsZSB0aGUgaW5wdXQgZWxlbWVudCBzaW5jZSBmdXJ0aGVyIHBpY2tzIGFyZSBub3QgYWxsb3dlZC4KICBpbnB1dEVsZW1lbnQuZGlzYWJsZWQgPSB0cnVlOwoKICBpZiAoIWZpbGVzKSB7CiAgICByZXR1cm4gewogICAgICByZXNwb25zZTogewogICAgICAgIGFjdGlvbjogJ2NvbXBsZXRlJywKICAgICAgfQogICAgfTsKICB9CgogIGZvciAoY29uc3QgZmlsZSBvZiBmaWxlcykgewogICAgY29uc3QgbGkgPSBkb2N1bWVudC5jcmVhdGVFbGVtZW50KCdsaScpOwogICAgbGkuYXBwZW5kKHNwYW4oZmlsZS5uYW1lLCB7Zm9udFdlaWdodDogJ2JvbGQnfSkpOwogICAgbGkuYXBwZW5kKHNwYW4oCiAgICAgICAgYCgke2ZpbGUudHlwZSB8fCAnbi9hJ30pIC0gJHtmaWxlLnNpemV9IGJ5dGVzLCBgICsKICAgICAgICBgbGFzdCBtb2RpZmllZDogJHsKICAgICAgICAgICAgZmlsZS5sYXN0TW9kaWZpZWREYXRlID8gZmlsZS5sYXN0TW9kaWZpZWREYXRlLnRvTG9jYWxlRGF0ZVN0cmluZygpIDoKICAgICAgICAgICAgICAgICAgICAgICAgICAgICAgICAgICAgJ24vYSd9IC0gYCkpOwogICAgY29uc3QgcGVyY2VudCA9IHNwYW4oJzAlIGRvbmUnKTsKICAgIGxpLmFwcGVuZENoaWxkKHBlcmNlbnQpOwoKICAgIG91dHB1dEVsZW1lbnQuYXBwZW5kQ2hpbGQobGkpOwoKICAgIGNvbnN0IGZpbGVEYXRhUHJvbWlzZSA9IG5ldyBQcm9taXNlKChyZXNvbHZlKSA9PiB7CiAgICAgIGNvbnN0IHJlYWRlciA9IG5ldyBGaWxlUmVhZGVyKCk7CiAgICAgIHJlYWRlci5vbmxvYWQgPSAoZSkgPT4gewogICAgICAgIHJlc29sdmUoZS50YXJnZXQucmVzdWx0KTsKICAgICAgfTsKICAgICAgcmVhZGVyLnJlYWRBc0FycmF5QnVmZmVyKGZpbGUpOwogICAgfSk7CiAgICAvLyBXYWl0IGZvciB0aGUgZGF0YSB0byBiZSByZWFkeS4KICAgIGxldCBmaWxlRGF0YSA9IHlpZWxkIHsKICAgICAgcHJvbWlzZTogZmlsZURhdGFQcm9taXNlLAogICAgICByZXNwb25zZTogewogICAgICAgIGFjdGlvbjogJ2NvbnRpbnVlJywKICAgICAgfQogICAgfTsKCiAgICAvLyBVc2UgYSBjaHVua2VkIHNlbmRpbmcgdG8gYXZvaWQgbWVzc2FnZSBzaXplIGxpbWl0cy4gU2VlIGIvNjIxMTU2NjAuCiAgICBsZXQgcG9zaXRpb24gPSAwOwogICAgZG8gewogICAgICBjb25zdCBsZW5ndGggPSBNYXRoLm1pbihmaWxlRGF0YS5ieXRlTGVuZ3RoIC0gcG9zaXRpb24sIE1BWF9QQVlMT0FEX1NJWkUpOwogICAgICBjb25zdCBjaHVuayA9IG5ldyBVaW50OEFycmF5KGZpbGVEYXRhLCBwb3NpdGlvbiwgbGVuZ3RoKTsKICAgICAgcG9zaXRpb24gKz0gbGVuZ3RoOwoKICAgICAgY29uc3QgYmFzZTY0ID0gYnRvYShTdHJpbmcuZnJvbUNoYXJDb2RlLmFwcGx5KG51bGwsIGNodW5rKSk7CiAgICAgIHlpZWxkIHsKICAgICAgICByZXNwb25zZTogewogICAgICAgICAgYWN0aW9uOiAnYXBwZW5kJywKICAgICAgICAgIGZpbGU6IGZpbGUubmFtZSwKICAgICAgICAgIGRhdGE6IGJhc2U2NCwKICAgICAgICB9LAogICAgICB9OwoKICAgICAgbGV0IHBlcmNlbnREb25lID0gZmlsZURhdGEuYnl0ZUxlbmd0aCA9PT0gMCA/CiAgICAgICAgICAxMDAgOgogICAgICAgICAgTWF0aC5yb3VuZCgocG9zaXRpb24gLyBmaWxlRGF0YS5ieXRlTGVuZ3RoKSAqIDEwMCk7CiAgICAgIHBlcmNlbnQudGV4dENvbnRlbnQgPSBgJHtwZXJjZW50RG9uZX0lIGRvbmVgOwoKICAgIH0gd2hpbGUgKHBvc2l0aW9uIDwgZmlsZURhdGEuYnl0ZUxlbmd0aCk7CiAgfQoKICAvLyBBbGwgZG9uZS4KICB5aWVsZCB7CiAgICByZXNwb25zZTogewogICAgICBhY3Rpb246ICdjb21wbGV0ZScsCiAgICB9CiAgfTsKfQoKc2NvcGUuZ29vZ2xlID0gc2NvcGUuZ29vZ2xlIHx8IHt9OwpzY29wZS5nb29nbGUuY29sYWIgPSBzY29wZS5nb29nbGUuY29sYWIgfHwge307CnNjb3BlLmdvb2dsZS5jb2xhYi5fZmlsZXMgPSB7CiAgX3VwbG9hZEZpbGVzLAogIF91cGxvYWRGaWxlc0NvbnRpbnVlLAp9Owp9KShzZWxmKTsK",
              "ok": true,
              "headers": [
                [
                  "content-type",
                  "application/javascript"
                ]
              ],
              "status": 200,
              "status_text": "OK"
            }
          },
          "base_uri": "https://localhost:8080/",
          "height": 145
        },
        "outputId": "bed4f528-bb18-423c-e690-a73252c9f0a8"
      },
      "execution_count": null,
      "outputs": [
        {
          "output_type": "display_data",
          "data": {
            "text/plain": [
              "<IPython.core.display.HTML object>"
            ],
            "text/html": [
              "\n",
              "     <input type=\"file\" id=\"files-059bc9aa-7370-4214-9010-33db512d05d9\" name=\"files[]\" multiple disabled\n",
              "        style=\"border:none\" />\n",
              "     <output id=\"result-059bc9aa-7370-4214-9010-33db512d05d9\">\n",
              "      Upload widget is only available when the cell has been executed in the\n",
              "      current browser session. Please rerun this cell to enable.\n",
              "      </output>\n",
              "      <script src=\"/nbextensions/google.colab/files.js\"></script> "
            ]
          },
          "metadata": {}
        },
        {
          "output_type": "stream",
          "name": "stdout",
          "text": [
            "Saving 01-Here’s-How-to-Hide-Your-Phone-Number-from-Everyone-You-Text-claire-nowak-FT.jpg to 01-Here’s-How-to-Hide-Your-Phone-Number-from-Everyone-You-Text-claire-nowak-FT (7).jpg\n",
            "No URL detected\n",
            "Predicted LEGITIMATE text - Safe to reply\n"
          ]
        }
      ]
    },
    {
      "cell_type": "markdown",
      "source": [
        "Testing system by uploading a smishing text:"
      ],
      "metadata": {
        "id": "tgshCGVn2a2P"
      }
    },
    {
      "cell_type": "code",
      "source": [
        "from google.colab import files\n",
        "image = files.upload()\n",
        "text = convert_image_to_text(image)\n",
        "if has_url(text):\n",
        "  url = find_url(text)\n",
        "  send_url_to_vt(url) \n",
        "else:\n",
        "  text = [text]\n",
        "  outcome = sys_pipeline.predict(text)\n",
        "  if outcome == 1:\n",
        "    print(\"Predicted SMISHING text - Delete immediately!\")\n",
        "  elif outcome == 0:\n",
        "    print(\"Peedicted LEGITIMATE text - Safe to reply\")"
      ],
      "metadata": {
        "colab": {
          "resources": {
            "http://localhost:8080/nbextensions/google.colab/files.js": {
              "data": "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",
              "ok": true,
              "headers": [
                [
                  "content-type",
                  "application/javascript"
                ]
              ],
              "status": 200,
              "status_text": "OK"
            }
          },
          "base_uri": "https://localhost:8080/",
          "height": 108
        },
        "id": "wOjbhQae08yg",
        "outputId": "16019bbc-9ae5-430f-ee61-e079e8e10ed5"
      },
      "execution_count": null,
      "outputs": [
        {
          "output_type": "display_data",
          "data": {
            "text/plain": [
              "<IPython.core.display.HTML object>"
            ],
            "text/html": [
              "\n",
              "     <input type=\"file\" id=\"files-021c333b-c4b6-4988-b19a-817eb4f010e0\" name=\"files[]\" multiple disabled\n",
              "        style=\"border:none\" />\n",
              "     <output id=\"result-021c333b-c4b6-4988-b19a-817eb4f010e0\">\n",
              "      Upload widget is only available when the cell has been executed in the\n",
              "      current browser session. Please rerun this cell to enable.\n",
              "      </output>\n",
              "      <script src=\"/nbextensions/google.colab/files.js\"></script> "
            ]
          },
          "metadata": {}
        },
        {
          "output_type": "stream",
          "name": "stdout",
          "text": [
            "Saving 0_DHL.jpg to 0_DHL.jpg\n",
            "\n",
            "SMISHING TEXT - DELETE IMMEDIATELY!!\n"
          ]
        }
      ]
    },
    {
      "cell_type": "code",
      "source": [
        ""
      ],
      "metadata": {
        "id": "qZsZ_LKC2iwv"
      },
      "execution_count": null,
      "outputs": []
    }
  ]
}